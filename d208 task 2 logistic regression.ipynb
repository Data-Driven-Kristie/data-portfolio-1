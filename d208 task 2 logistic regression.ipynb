{
 "cells": [
  {
   "cell_type": "code",
   "execution_count": 65,
   "id": "3ead7e3d",
   "metadata": {},
   "outputs": [],
   "source": [
    "# import needed modules\n",
    "import pandas as pd\n",
    "import numpy as np\n",
    "import matplotlib.pyplot as plt\n",
    "import seaborn as sns\n",
    "from scipy.stats.mstats import winsorize\n",
    "from statsmodels.formula.api import ols\n",
    "import statsmodels.api as sm\n",
    "from itertools import product\n",
    "from sklearn import linear_model\n",
    "from sklearn import metrics\n",
    "import warnings\n",
    "warnings.filterwarnings('ignore')"
   ]
  },
  {
   "cell_type": "code",
   "execution_count": 66,
   "id": "e4a9e56e",
   "metadata": {},
   "outputs": [],
   "source": [
    "pd.set_option('max_columns', None)\n",
    "med_df=pd.read_csv('C:/Users/kr529097/Desktop/MSDA/208/task 1/medical_clean.csv')"
   ]
  },
  {
   "cell_type": "code",
   "execution_count": 67,
   "id": "d5db198c",
   "metadata": {},
   "outputs": [
    {
     "name": "stdout",
     "output_type": "stream",
     "text": [
      "<class 'pandas.core.frame.DataFrame'>\n",
      "RangeIndex: 10000 entries, 0 to 9999\n",
      "Data columns (total 50 columns):\n",
      " #   Column              Non-Null Count  Dtype  \n",
      "---  ------              --------------  -----  \n",
      " 0   CaseOrder           10000 non-null  int64  \n",
      " 1   Customer_id         10000 non-null  object \n",
      " 2   Interaction         10000 non-null  object \n",
      " 3   UID                 10000 non-null  object \n",
      " 4   City                10000 non-null  object \n",
      " 5   State               10000 non-null  object \n",
      " 6   County              10000 non-null  object \n",
      " 7   Zip                 10000 non-null  int64  \n",
      " 8   Lat                 10000 non-null  float64\n",
      " 9   Lng                 10000 non-null  float64\n",
      " 10  Population          10000 non-null  int64  \n",
      " 11  Area                10000 non-null  object \n",
      " 12  TimeZone            10000 non-null  object \n",
      " 13  Job                 10000 non-null  object \n",
      " 14  Children            10000 non-null  int64  \n",
      " 15  Age                 10000 non-null  int64  \n",
      " 16  Income              10000 non-null  float64\n",
      " 17  Marital             10000 non-null  object \n",
      " 18  Gender              10000 non-null  object \n",
      " 19  ReAdmis             10000 non-null  object \n",
      " 20  VitD_levels         10000 non-null  float64\n",
      " 21  Doc_visits          10000 non-null  int64  \n",
      " 22  Full_meals_eaten    10000 non-null  int64  \n",
      " 23  vitD_supp           10000 non-null  int64  \n",
      " 24  Soft_drink          10000 non-null  object \n",
      " 25  Initial_admin       10000 non-null  object \n",
      " 26  HighBlood           10000 non-null  object \n",
      " 27  Stroke              10000 non-null  object \n",
      " 28  Complication_risk   10000 non-null  object \n",
      " 29  Overweight          10000 non-null  object \n",
      " 30  Arthritis           10000 non-null  object \n",
      " 31  Diabetes            10000 non-null  object \n",
      " 32  Hyperlipidemia      10000 non-null  object \n",
      " 33  BackPain            10000 non-null  object \n",
      " 34  Anxiety             10000 non-null  object \n",
      " 35  Allergic_rhinitis   10000 non-null  object \n",
      " 36  Reflux_esophagitis  10000 non-null  object \n",
      " 37  Asthma              10000 non-null  object \n",
      " 38  Services            10000 non-null  object \n",
      " 39  Initial_days        10000 non-null  float64\n",
      " 40  TotalCharge         10000 non-null  float64\n",
      " 41  Additional_charges  10000 non-null  float64\n",
      " 42  Item1               10000 non-null  int64  \n",
      " 43  Item2               10000 non-null  int64  \n",
      " 44  Item3               10000 non-null  int64  \n",
      " 45  Item4               10000 non-null  int64  \n",
      " 46  Item5               10000 non-null  int64  \n",
      " 47  Item6               10000 non-null  int64  \n",
      " 48  Item7               10000 non-null  int64  \n",
      " 49  Item8               10000 non-null  int64  \n",
      "dtypes: float64(7), int64(16), object(27)\n",
      "memory usage: 3.8+ MB\n"
     ]
    }
   ],
   "source": [
    "med_df.info()"
   ]
  },
  {
   "cell_type": "code",
   "execution_count": 68,
   "id": "18bcb2d8",
   "metadata": {},
   "outputs": [
    {
     "data": {
      "text/html": [
       "<div>\n",
       "<style scoped>\n",
       "    .dataframe tbody tr th:only-of-type {\n",
       "        vertical-align: middle;\n",
       "    }\n",
       "\n",
       "    .dataframe tbody tr th {\n",
       "        vertical-align: top;\n",
       "    }\n",
       "\n",
       "    .dataframe thead th {\n",
       "        text-align: right;\n",
       "    }\n",
       "</style>\n",
       "<table border=\"1\" class=\"dataframe\">\n",
       "  <thead>\n",
       "    <tr style=\"text-align: right;\">\n",
       "      <th></th>\n",
       "      <th>CaseOrder</th>\n",
       "      <th>Customer_id</th>\n",
       "      <th>Interaction</th>\n",
       "      <th>UID</th>\n",
       "      <th>City</th>\n",
       "      <th>State</th>\n",
       "      <th>County</th>\n",
       "      <th>Zip</th>\n",
       "      <th>Lat</th>\n",
       "      <th>Lng</th>\n",
       "      <th>Population</th>\n",
       "      <th>Area</th>\n",
       "      <th>TimeZone</th>\n",
       "      <th>Insured_Job</th>\n",
       "      <th>Children</th>\n",
       "      <th>Age</th>\n",
       "      <th>Income</th>\n",
       "      <th>Marital</th>\n",
       "      <th>Gender</th>\n",
       "      <th>ReAdmis</th>\n",
       "      <th>VitD_levels</th>\n",
       "      <th>Doc_visits</th>\n",
       "      <th>Full_meals_eaten</th>\n",
       "      <th>vitD_supp</th>\n",
       "      <th>Soft_drink</th>\n",
       "      <th>Initial_admin</th>\n",
       "      <th>HighBlood</th>\n",
       "      <th>Stroke</th>\n",
       "      <th>Complication_risk</th>\n",
       "      <th>Overweight</th>\n",
       "      <th>Arthritis</th>\n",
       "      <th>Diabetes</th>\n",
       "      <th>Hyperlipidemia</th>\n",
       "      <th>BackPain</th>\n",
       "      <th>Anxiety</th>\n",
       "      <th>Allergic_rhinitis</th>\n",
       "      <th>Reflux_esophagitis</th>\n",
       "      <th>Asthma</th>\n",
       "      <th>Services</th>\n",
       "      <th>Initial_days</th>\n",
       "      <th>TotalCharge</th>\n",
       "      <th>Additional_charges</th>\n",
       "      <th>Item1</th>\n",
       "      <th>Item2</th>\n",
       "      <th>Item3</th>\n",
       "      <th>Item4</th>\n",
       "      <th>Item5</th>\n",
       "      <th>Item6</th>\n",
       "      <th>Item7</th>\n",
       "      <th>Item8</th>\n",
       "    </tr>\n",
       "  </thead>\n",
       "  <tbody>\n",
       "    <tr>\n",
       "      <th>0</th>\n",
       "      <td>1</td>\n",
       "      <td>C412403</td>\n",
       "      <td>8cd49b13-f45a-4b47-a2bd-173ffa932c2f</td>\n",
       "      <td>3a83ddb66e2ae73798bdf1d705dc0932</td>\n",
       "      <td>Eva</td>\n",
       "      <td>AL</td>\n",
       "      <td>Morgan</td>\n",
       "      <td>35621</td>\n",
       "      <td>34.34960</td>\n",
       "      <td>-86.72508</td>\n",
       "      <td>2951</td>\n",
       "      <td>2</td>\n",
       "      <td>America/Chicago</td>\n",
       "      <td>Psychologist, sport and exercise</td>\n",
       "      <td>1</td>\n",
       "      <td>53</td>\n",
       "      <td>86575.93</td>\n",
       "      <td>Divorced</td>\n",
       "      <td>Male</td>\n",
       "      <td>No</td>\n",
       "      <td>19.141466</td>\n",
       "      <td>6</td>\n",
       "      <td>0</td>\n",
       "      <td>0</td>\n",
       "      <td>No</td>\n",
       "      <td>Emergency Admission</td>\n",
       "      <td>Yes</td>\n",
       "      <td>No</td>\n",
       "      <td>Medium</td>\n",
       "      <td>No</td>\n",
       "      <td>Yes</td>\n",
       "      <td>Yes</td>\n",
       "      <td>No</td>\n",
       "      <td>Yes</td>\n",
       "      <td>Yes</td>\n",
       "      <td>Yes</td>\n",
       "      <td>No</td>\n",
       "      <td>Yes</td>\n",
       "      <td>Blood Work</td>\n",
       "      <td>10.585770</td>\n",
       "      <td>3726.702860</td>\n",
       "      <td>17939.403420</td>\n",
       "      <td>3</td>\n",
       "      <td>3</td>\n",
       "      <td>2</td>\n",
       "      <td>2</td>\n",
       "      <td>4</td>\n",
       "      <td>3</td>\n",
       "      <td>3</td>\n",
       "      <td>4</td>\n",
       "    </tr>\n",
       "    <tr>\n",
       "      <th>1</th>\n",
       "      <td>2</td>\n",
       "      <td>Z919181</td>\n",
       "      <td>d2450b70-0337-4406-bdbb-bc1037f1734c</td>\n",
       "      <td>176354c5eef714957d486009feabf195</td>\n",
       "      <td>Marianna</td>\n",
       "      <td>FL</td>\n",
       "      <td>Jackson</td>\n",
       "      <td>32446</td>\n",
       "      <td>30.84513</td>\n",
       "      <td>-85.22907</td>\n",
       "      <td>11303</td>\n",
       "      <td>1</td>\n",
       "      <td>America/Chicago</td>\n",
       "      <td>Community development worker</td>\n",
       "      <td>3</td>\n",
       "      <td>51</td>\n",
       "      <td>46805.99</td>\n",
       "      <td>Married</td>\n",
       "      <td>Female</td>\n",
       "      <td>No</td>\n",
       "      <td>18.940352</td>\n",
       "      <td>4</td>\n",
       "      <td>2</td>\n",
       "      <td>1</td>\n",
       "      <td>No</td>\n",
       "      <td>Emergency Admission</td>\n",
       "      <td>Yes</td>\n",
       "      <td>No</td>\n",
       "      <td>High</td>\n",
       "      <td>Yes</td>\n",
       "      <td>No</td>\n",
       "      <td>No</td>\n",
       "      <td>No</td>\n",
       "      <td>No</td>\n",
       "      <td>No</td>\n",
       "      <td>No</td>\n",
       "      <td>Yes</td>\n",
       "      <td>No</td>\n",
       "      <td>Intravenous</td>\n",
       "      <td>15.129562</td>\n",
       "      <td>4193.190458</td>\n",
       "      <td>17612.998120</td>\n",
       "      <td>3</td>\n",
       "      <td>4</td>\n",
       "      <td>3</td>\n",
       "      <td>4</td>\n",
       "      <td>4</td>\n",
       "      <td>4</td>\n",
       "      <td>3</td>\n",
       "      <td>3</td>\n",
       "    </tr>\n",
       "    <tr>\n",
       "      <th>2</th>\n",
       "      <td>3</td>\n",
       "      <td>F995323</td>\n",
       "      <td>a2057123-abf5-4a2c-abad-8ffe33512562</td>\n",
       "      <td>e19a0fa00aeda885b8a436757e889bc9</td>\n",
       "      <td>Sioux Falls</td>\n",
       "      <td>SD</td>\n",
       "      <td>Minnehaha</td>\n",
       "      <td>57110</td>\n",
       "      <td>43.54321</td>\n",
       "      <td>-96.63772</td>\n",
       "      <td>17125</td>\n",
       "      <td>2</td>\n",
       "      <td>America/Chicago</td>\n",
       "      <td>Chief Executive Officer</td>\n",
       "      <td>3</td>\n",
       "      <td>53</td>\n",
       "      <td>14370.14</td>\n",
       "      <td>Widowed</td>\n",
       "      <td>Female</td>\n",
       "      <td>No</td>\n",
       "      <td>18.057507</td>\n",
       "      <td>4</td>\n",
       "      <td>1</td>\n",
       "      <td>0</td>\n",
       "      <td>No</td>\n",
       "      <td>Elective Admission</td>\n",
       "      <td>Yes</td>\n",
       "      <td>No</td>\n",
       "      <td>Medium</td>\n",
       "      <td>Yes</td>\n",
       "      <td>No</td>\n",
       "      <td>Yes</td>\n",
       "      <td>No</td>\n",
       "      <td>No</td>\n",
       "      <td>No</td>\n",
       "      <td>No</td>\n",
       "      <td>No</td>\n",
       "      <td>No</td>\n",
       "      <td>Blood Work</td>\n",
       "      <td>4.772177</td>\n",
       "      <td>2434.234222</td>\n",
       "      <td>17505.192460</td>\n",
       "      <td>2</td>\n",
       "      <td>4</td>\n",
       "      <td>4</td>\n",
       "      <td>4</td>\n",
       "      <td>3</td>\n",
       "      <td>4</td>\n",
       "      <td>3</td>\n",
       "      <td>3</td>\n",
       "    </tr>\n",
       "    <tr>\n",
       "      <th>3</th>\n",
       "      <td>4</td>\n",
       "      <td>A879973</td>\n",
       "      <td>1dec528d-eb34-4079-adce-0d7a40e82205</td>\n",
       "      <td>cd17d7b6d152cb6f23957346d11c3f07</td>\n",
       "      <td>New Richland</td>\n",
       "      <td>MN</td>\n",
       "      <td>Waseca</td>\n",
       "      <td>56072</td>\n",
       "      <td>43.89744</td>\n",
       "      <td>-93.51479</td>\n",
       "      <td>2162</td>\n",
       "      <td>2</td>\n",
       "      <td>America/Chicago</td>\n",
       "      <td>Early years teacher</td>\n",
       "      <td>0</td>\n",
       "      <td>78</td>\n",
       "      <td>39741.49</td>\n",
       "      <td>Married</td>\n",
       "      <td>Male</td>\n",
       "      <td>No</td>\n",
       "      <td>16.576858</td>\n",
       "      <td>4</td>\n",
       "      <td>1</td>\n",
       "      <td>0</td>\n",
       "      <td>No</td>\n",
       "      <td>Elective Admission</td>\n",
       "      <td>No</td>\n",
       "      <td>Yes</td>\n",
       "      <td>Medium</td>\n",
       "      <td>No</td>\n",
       "      <td>Yes</td>\n",
       "      <td>No</td>\n",
       "      <td>No</td>\n",
       "      <td>No</td>\n",
       "      <td>No</td>\n",
       "      <td>No</td>\n",
       "      <td>Yes</td>\n",
       "      <td>Yes</td>\n",
       "      <td>Blood Work</td>\n",
       "      <td>1.714879</td>\n",
       "      <td>2127.830423</td>\n",
       "      <td>12993.437350</td>\n",
       "      <td>3</td>\n",
       "      <td>5</td>\n",
       "      <td>5</td>\n",
       "      <td>3</td>\n",
       "      <td>4</td>\n",
       "      <td>5</td>\n",
       "      <td>5</td>\n",
       "      <td>5</td>\n",
       "    </tr>\n",
       "    <tr>\n",
       "      <th>4</th>\n",
       "      <td>5</td>\n",
       "      <td>C544523</td>\n",
       "      <td>5885f56b-d6da-43a3-8760-83583af94266</td>\n",
       "      <td>d2f0425877b10ed6bb381f3e2579424a</td>\n",
       "      <td>West Point</td>\n",
       "      <td>VA</td>\n",
       "      <td>King William</td>\n",
       "      <td>23181</td>\n",
       "      <td>37.59894</td>\n",
       "      <td>-76.88958</td>\n",
       "      <td>5287</td>\n",
       "      <td>3</td>\n",
       "      <td>America/New_York</td>\n",
       "      <td>Health promotion specialist</td>\n",
       "      <td>1</td>\n",
       "      <td>22</td>\n",
       "      <td>1209.56</td>\n",
       "      <td>Widowed</td>\n",
       "      <td>Female</td>\n",
       "      <td>No</td>\n",
       "      <td>17.439069</td>\n",
       "      <td>5</td>\n",
       "      <td>0</td>\n",
       "      <td>2</td>\n",
       "      <td>Yes</td>\n",
       "      <td>Elective Admission</td>\n",
       "      <td>No</td>\n",
       "      <td>No</td>\n",
       "      <td>Low</td>\n",
       "      <td>No</td>\n",
       "      <td>No</td>\n",
       "      <td>No</td>\n",
       "      <td>Yes</td>\n",
       "      <td>No</td>\n",
       "      <td>No</td>\n",
       "      <td>Yes</td>\n",
       "      <td>No</td>\n",
       "      <td>No</td>\n",
       "      <td>CT Scan</td>\n",
       "      <td>1.254807</td>\n",
       "      <td>2113.073274</td>\n",
       "      <td>3716.525786</td>\n",
       "      <td>2</td>\n",
       "      <td>1</td>\n",
       "      <td>3</td>\n",
       "      <td>3</td>\n",
       "      <td>5</td>\n",
       "      <td>3</td>\n",
       "      <td>4</td>\n",
       "      <td>3</td>\n",
       "    </tr>\n",
       "    <tr>\n",
       "      <th>...</th>\n",
       "      <td>...</td>\n",
       "      <td>...</td>\n",
       "      <td>...</td>\n",
       "      <td>...</td>\n",
       "      <td>...</td>\n",
       "      <td>...</td>\n",
       "      <td>...</td>\n",
       "      <td>...</td>\n",
       "      <td>...</td>\n",
       "      <td>...</td>\n",
       "      <td>...</td>\n",
       "      <td>...</td>\n",
       "      <td>...</td>\n",
       "      <td>...</td>\n",
       "      <td>...</td>\n",
       "      <td>...</td>\n",
       "      <td>...</td>\n",
       "      <td>...</td>\n",
       "      <td>...</td>\n",
       "      <td>...</td>\n",
       "      <td>...</td>\n",
       "      <td>...</td>\n",
       "      <td>...</td>\n",
       "      <td>...</td>\n",
       "      <td>...</td>\n",
       "      <td>...</td>\n",
       "      <td>...</td>\n",
       "      <td>...</td>\n",
       "      <td>...</td>\n",
       "      <td>...</td>\n",
       "      <td>...</td>\n",
       "      <td>...</td>\n",
       "      <td>...</td>\n",
       "      <td>...</td>\n",
       "      <td>...</td>\n",
       "      <td>...</td>\n",
       "      <td>...</td>\n",
       "      <td>...</td>\n",
       "      <td>...</td>\n",
       "      <td>...</td>\n",
       "      <td>...</td>\n",
       "      <td>...</td>\n",
       "      <td>...</td>\n",
       "      <td>...</td>\n",
       "      <td>...</td>\n",
       "      <td>...</td>\n",
       "      <td>...</td>\n",
       "      <td>...</td>\n",
       "      <td>...</td>\n",
       "      <td>...</td>\n",
       "    </tr>\n",
       "    <tr>\n",
       "      <th>9995</th>\n",
       "      <td>9996</td>\n",
       "      <td>B863060</td>\n",
       "      <td>a25b594d-0328-486f-a9b9-0567eb0f9723</td>\n",
       "      <td>39184dc28cc038871912ccc4500049e5</td>\n",
       "      <td>Norlina</td>\n",
       "      <td>NC</td>\n",
       "      <td>Warren</td>\n",
       "      <td>27563</td>\n",
       "      <td>36.42886</td>\n",
       "      <td>-78.23716</td>\n",
       "      <td>4762</td>\n",
       "      <td>1</td>\n",
       "      <td>America/New_York</td>\n",
       "      <td>Programmer, multimedia</td>\n",
       "      <td>2</td>\n",
       "      <td>25</td>\n",
       "      <td>45967.61</td>\n",
       "      <td>Widowed</td>\n",
       "      <td>Male</td>\n",
       "      <td>No</td>\n",
       "      <td>16.980860</td>\n",
       "      <td>4</td>\n",
       "      <td>2</td>\n",
       "      <td>1</td>\n",
       "      <td>No</td>\n",
       "      <td>Emergency Admission</td>\n",
       "      <td>Yes</td>\n",
       "      <td>No</td>\n",
       "      <td>Medium</td>\n",
       "      <td>No</td>\n",
       "      <td>No</td>\n",
       "      <td>No</td>\n",
       "      <td>No</td>\n",
       "      <td>No</td>\n",
       "      <td>Yes</td>\n",
       "      <td>No</td>\n",
       "      <td>Yes</td>\n",
       "      <td>No</td>\n",
       "      <td>Intravenous</td>\n",
       "      <td>51.561220</td>\n",
       "      <td>6850.942000</td>\n",
       "      <td>8927.642000</td>\n",
       "      <td>3</td>\n",
       "      <td>2</td>\n",
       "      <td>2</td>\n",
       "      <td>3</td>\n",
       "      <td>4</td>\n",
       "      <td>3</td>\n",
       "      <td>4</td>\n",
       "      <td>2</td>\n",
       "    </tr>\n",
       "    <tr>\n",
       "      <th>9996</th>\n",
       "      <td>9997</td>\n",
       "      <td>P712040</td>\n",
       "      <td>70711574-f7b1-4a17-b15f-48c54564b70f</td>\n",
       "      <td>3cd124ccd43147404292e883bf9ec55c</td>\n",
       "      <td>Milmay</td>\n",
       "      <td>NJ</td>\n",
       "      <td>Atlantic</td>\n",
       "      <td>8340</td>\n",
       "      <td>39.43609</td>\n",
       "      <td>-74.87302</td>\n",
       "      <td>1251</td>\n",
       "      <td>1</td>\n",
       "      <td>America/New_York</td>\n",
       "      <td>Restaurant manager, fast food</td>\n",
       "      <td>4</td>\n",
       "      <td>87</td>\n",
       "      <td>14983.02</td>\n",
       "      <td>Widowed</td>\n",
       "      <td>Male</td>\n",
       "      <td>Yes</td>\n",
       "      <td>18.177020</td>\n",
       "      <td>5</td>\n",
       "      <td>0</td>\n",
       "      <td>0</td>\n",
       "      <td>No</td>\n",
       "      <td>Elective Admission</td>\n",
       "      <td>Yes</td>\n",
       "      <td>No</td>\n",
       "      <td>Medium</td>\n",
       "      <td>Yes</td>\n",
       "      <td>Yes</td>\n",
       "      <td>Yes</td>\n",
       "      <td>No</td>\n",
       "      <td>No</td>\n",
       "      <td>No</td>\n",
       "      <td>No</td>\n",
       "      <td>No</td>\n",
       "      <td>Yes</td>\n",
       "      <td>CT Scan</td>\n",
       "      <td>68.668240</td>\n",
       "      <td>7741.690000</td>\n",
       "      <td>28507.150000</td>\n",
       "      <td>3</td>\n",
       "      <td>3</td>\n",
       "      <td>4</td>\n",
       "      <td>2</td>\n",
       "      <td>5</td>\n",
       "      <td>3</td>\n",
       "      <td>4</td>\n",
       "      <td>4</td>\n",
       "    </tr>\n",
       "    <tr>\n",
       "      <th>9997</th>\n",
       "      <td>9998</td>\n",
       "      <td>R778890</td>\n",
       "      <td>1d79569d-8e0f-4180-a207-d67ee4527d26</td>\n",
       "      <td>41b770aeee97a5b9e7f69c906a8119d7</td>\n",
       "      <td>Southside</td>\n",
       "      <td>TN</td>\n",
       "      <td>Montgomery</td>\n",
       "      <td>37171</td>\n",
       "      <td>36.36655</td>\n",
       "      <td>-87.29988</td>\n",
       "      <td>532</td>\n",
       "      <td>3</td>\n",
       "      <td>America/Chicago</td>\n",
       "      <td>Psychologist, occupational</td>\n",
       "      <td>3</td>\n",
       "      <td>45</td>\n",
       "      <td>65917.81</td>\n",
       "      <td>Separated</td>\n",
       "      <td>Female</td>\n",
       "      <td>Yes</td>\n",
       "      <td>17.129070</td>\n",
       "      <td>4</td>\n",
       "      <td>2</td>\n",
       "      <td>0</td>\n",
       "      <td>Yes</td>\n",
       "      <td>Elective Admission</td>\n",
       "      <td>Yes</td>\n",
       "      <td>No</td>\n",
       "      <td>High</td>\n",
       "      <td>Yes</td>\n",
       "      <td>No</td>\n",
       "      <td>No</td>\n",
       "      <td>No</td>\n",
       "      <td>No</td>\n",
       "      <td>Yes</td>\n",
       "      <td>Yes</td>\n",
       "      <td>No</td>\n",
       "      <td>No</td>\n",
       "      <td>Intravenous</td>\n",
       "      <td>70.154180</td>\n",
       "      <td>8276.481000</td>\n",
       "      <td>15281.210000</td>\n",
       "      <td>3</td>\n",
       "      <td>3</td>\n",
       "      <td>3</td>\n",
       "      <td>4</td>\n",
       "      <td>4</td>\n",
       "      <td>2</td>\n",
       "      <td>3</td>\n",
       "      <td>2</td>\n",
       "    </tr>\n",
       "    <tr>\n",
       "      <th>9998</th>\n",
       "      <td>9999</td>\n",
       "      <td>E344109</td>\n",
       "      <td>f5a68e69-2a60-409b-a92f-ac0847b27db0</td>\n",
       "      <td>2bb491ef5b1beb1fed758cc6885c167a</td>\n",
       "      <td>Quinn</td>\n",
       "      <td>SD</td>\n",
       "      <td>Pennington</td>\n",
       "      <td>57775</td>\n",
       "      <td>44.10354</td>\n",
       "      <td>-102.01590</td>\n",
       "      <td>271</td>\n",
       "      <td>3</td>\n",
       "      <td>America/Denver</td>\n",
       "      <td>Outdoor activities/education manager</td>\n",
       "      <td>3</td>\n",
       "      <td>43</td>\n",
       "      <td>29702.32</td>\n",
       "      <td>Divorced</td>\n",
       "      <td>Male</td>\n",
       "      <td>Yes</td>\n",
       "      <td>19.910430</td>\n",
       "      <td>5</td>\n",
       "      <td>2</td>\n",
       "      <td>1</td>\n",
       "      <td>No</td>\n",
       "      <td>Emergency Admission</td>\n",
       "      <td>No</td>\n",
       "      <td>No</td>\n",
       "      <td>Medium</td>\n",
       "      <td>Yes</td>\n",
       "      <td>No</td>\n",
       "      <td>No</td>\n",
       "      <td>No</td>\n",
       "      <td>Yes</td>\n",
       "      <td>No</td>\n",
       "      <td>No</td>\n",
       "      <td>No</td>\n",
       "      <td>No</td>\n",
       "      <td>Blood Work</td>\n",
       "      <td>63.356900</td>\n",
       "      <td>7644.483000</td>\n",
       "      <td>7781.678000</td>\n",
       "      <td>5</td>\n",
       "      <td>5</td>\n",
       "      <td>3</td>\n",
       "      <td>4</td>\n",
       "      <td>4</td>\n",
       "      <td>3</td>\n",
       "      <td>4</td>\n",
       "      <td>3</td>\n",
       "    </tr>\n",
       "    <tr>\n",
       "      <th>9999</th>\n",
       "      <td>10000</td>\n",
       "      <td>I569847</td>\n",
       "      <td>bc482c02-f8c9-4423-99de-3db5e62a18d5</td>\n",
       "      <td>95663a202338000abdf7e09311c2a8a1</td>\n",
       "      <td>Coraopolis</td>\n",
       "      <td>PA</td>\n",
       "      <td>Allegheny</td>\n",
       "      <td>15108</td>\n",
       "      <td>40.49998</td>\n",
       "      <td>-80.19959</td>\n",
       "      <td>41524</td>\n",
       "      <td>1</td>\n",
       "      <td>America/New_York</td>\n",
       "      <td>Sports development officer</td>\n",
       "      <td>8</td>\n",
       "      <td>70</td>\n",
       "      <td>62682.63</td>\n",
       "      <td>Separated</td>\n",
       "      <td>Female</td>\n",
       "      <td>Yes</td>\n",
       "      <td>18.388620</td>\n",
       "      <td>5</td>\n",
       "      <td>0</td>\n",
       "      <td>1</td>\n",
       "      <td>No</td>\n",
       "      <td>Observation Admission</td>\n",
       "      <td>No</td>\n",
       "      <td>No</td>\n",
       "      <td>Low</td>\n",
       "      <td>Yes</td>\n",
       "      <td>Yes</td>\n",
       "      <td>No</td>\n",
       "      <td>Yes</td>\n",
       "      <td>No</td>\n",
       "      <td>No</td>\n",
       "      <td>Yes</td>\n",
       "      <td>No</td>\n",
       "      <td>No</td>\n",
       "      <td>Blood Work</td>\n",
       "      <td>70.850590</td>\n",
       "      <td>7887.553000</td>\n",
       "      <td>11643.190000</td>\n",
       "      <td>4</td>\n",
       "      <td>3</td>\n",
       "      <td>3</td>\n",
       "      <td>2</td>\n",
       "      <td>3</td>\n",
       "      <td>6</td>\n",
       "      <td>4</td>\n",
       "      <td>3</td>\n",
       "    </tr>\n",
       "  </tbody>\n",
       "</table>\n",
       "<p>10000 rows × 50 columns</p>\n",
       "</div>"
      ],
      "text/plain": [
       "      CaseOrder Customer_id                           Interaction  \\\n",
       "0             1     C412403  8cd49b13-f45a-4b47-a2bd-173ffa932c2f   \n",
       "1             2     Z919181  d2450b70-0337-4406-bdbb-bc1037f1734c   \n",
       "2             3     F995323  a2057123-abf5-4a2c-abad-8ffe33512562   \n",
       "3             4     A879973  1dec528d-eb34-4079-adce-0d7a40e82205   \n",
       "4             5     C544523  5885f56b-d6da-43a3-8760-83583af94266   \n",
       "...         ...         ...                                   ...   \n",
       "9995       9996     B863060  a25b594d-0328-486f-a9b9-0567eb0f9723   \n",
       "9996       9997     P712040  70711574-f7b1-4a17-b15f-48c54564b70f   \n",
       "9997       9998     R778890  1d79569d-8e0f-4180-a207-d67ee4527d26   \n",
       "9998       9999     E344109  f5a68e69-2a60-409b-a92f-ac0847b27db0   \n",
       "9999      10000     I569847  bc482c02-f8c9-4423-99de-3db5e62a18d5   \n",
       "\n",
       "                                   UID          City State        County  \\\n",
       "0     3a83ddb66e2ae73798bdf1d705dc0932           Eva    AL        Morgan   \n",
       "1     176354c5eef714957d486009feabf195      Marianna    FL       Jackson   \n",
       "2     e19a0fa00aeda885b8a436757e889bc9   Sioux Falls    SD     Minnehaha   \n",
       "3     cd17d7b6d152cb6f23957346d11c3f07  New Richland    MN        Waseca   \n",
       "4     d2f0425877b10ed6bb381f3e2579424a    West Point    VA  King William   \n",
       "...                                ...           ...   ...           ...   \n",
       "9995  39184dc28cc038871912ccc4500049e5       Norlina    NC        Warren   \n",
       "9996  3cd124ccd43147404292e883bf9ec55c        Milmay    NJ      Atlantic   \n",
       "9997  41b770aeee97a5b9e7f69c906a8119d7     Southside    TN    Montgomery   \n",
       "9998  2bb491ef5b1beb1fed758cc6885c167a         Quinn    SD    Pennington   \n",
       "9999  95663a202338000abdf7e09311c2a8a1    Coraopolis    PA     Allegheny   \n",
       "\n",
       "        Zip       Lat        Lng  Population  Area          TimeZone  \\\n",
       "0     35621  34.34960  -86.72508        2951     2   America/Chicago   \n",
       "1     32446  30.84513  -85.22907       11303     1   America/Chicago   \n",
       "2     57110  43.54321  -96.63772       17125     2   America/Chicago   \n",
       "3     56072  43.89744  -93.51479        2162     2   America/Chicago   \n",
       "4     23181  37.59894  -76.88958        5287     3  America/New_York   \n",
       "...     ...       ...        ...         ...   ...               ...   \n",
       "9995  27563  36.42886  -78.23716        4762     1  America/New_York   \n",
       "9996   8340  39.43609  -74.87302        1251     1  America/New_York   \n",
       "9997  37171  36.36655  -87.29988         532     3   America/Chicago   \n",
       "9998  57775  44.10354 -102.01590         271     3    America/Denver   \n",
       "9999  15108  40.49998  -80.19959       41524     1  America/New_York   \n",
       "\n",
       "                               Insured_Job  Children  Age    Income  \\\n",
       "0         Psychologist, sport and exercise         1   53  86575.93   \n",
       "1             Community development worker         3   51  46805.99   \n",
       "2                  Chief Executive Officer         3   53  14370.14   \n",
       "3                      Early years teacher         0   78  39741.49   \n",
       "4              Health promotion specialist         1   22   1209.56   \n",
       "...                                    ...       ...  ...       ...   \n",
       "9995                Programmer, multimedia         2   25  45967.61   \n",
       "9996         Restaurant manager, fast food         4   87  14983.02   \n",
       "9997            Psychologist, occupational         3   45  65917.81   \n",
       "9998  Outdoor activities/education manager         3   43  29702.32   \n",
       "9999            Sports development officer         8   70  62682.63   \n",
       "\n",
       "        Marital  Gender ReAdmis  VitD_levels  Doc_visits  Full_meals_eaten  \\\n",
       "0      Divorced    Male      No    19.141466           6                 0   \n",
       "1       Married  Female      No    18.940352           4                 2   \n",
       "2       Widowed  Female      No    18.057507           4                 1   \n",
       "3       Married    Male      No    16.576858           4                 1   \n",
       "4       Widowed  Female      No    17.439069           5                 0   \n",
       "...         ...     ...     ...          ...         ...               ...   \n",
       "9995    Widowed    Male      No    16.980860           4                 2   \n",
       "9996    Widowed    Male     Yes    18.177020           5                 0   \n",
       "9997  Separated  Female     Yes    17.129070           4                 2   \n",
       "9998   Divorced    Male     Yes    19.910430           5                 2   \n",
       "9999  Separated  Female     Yes    18.388620           5                 0   \n",
       "\n",
       "      vitD_supp Soft_drink          Initial_admin HighBlood Stroke  \\\n",
       "0             0         No    Emergency Admission       Yes     No   \n",
       "1             1         No    Emergency Admission       Yes     No   \n",
       "2             0         No     Elective Admission       Yes     No   \n",
       "3             0         No     Elective Admission        No    Yes   \n",
       "4             2        Yes     Elective Admission        No     No   \n",
       "...         ...        ...                    ...       ...    ...   \n",
       "9995          1         No    Emergency Admission       Yes     No   \n",
       "9996          0         No     Elective Admission       Yes     No   \n",
       "9997          0        Yes     Elective Admission       Yes     No   \n",
       "9998          1         No    Emergency Admission        No     No   \n",
       "9999          1         No  Observation Admission        No     No   \n",
       "\n",
       "     Complication_risk Overweight Arthritis Diabetes Hyperlipidemia BackPain  \\\n",
       "0               Medium         No       Yes      Yes             No      Yes   \n",
       "1                 High        Yes        No       No             No       No   \n",
       "2               Medium        Yes        No      Yes             No       No   \n",
       "3               Medium         No       Yes       No             No       No   \n",
       "4                  Low         No        No       No            Yes       No   \n",
       "...                ...        ...       ...      ...            ...      ...   \n",
       "9995            Medium         No        No       No             No       No   \n",
       "9996            Medium        Yes       Yes      Yes             No       No   \n",
       "9997              High        Yes        No       No             No       No   \n",
       "9998            Medium        Yes        No       No             No      Yes   \n",
       "9999               Low        Yes       Yes       No            Yes       No   \n",
       "\n",
       "     Anxiety Allergic_rhinitis Reflux_esophagitis Asthma     Services  \\\n",
       "0        Yes               Yes                 No    Yes   Blood Work   \n",
       "1         No                No                Yes     No  Intravenous   \n",
       "2         No                No                 No     No   Blood Work   \n",
       "3         No                No                Yes    Yes   Blood Work   \n",
       "4         No               Yes                 No     No      CT Scan   \n",
       "...      ...               ...                ...    ...          ...   \n",
       "9995     Yes                No                Yes     No  Intravenous   \n",
       "9996      No                No                 No    Yes      CT Scan   \n",
       "9997     Yes               Yes                 No     No  Intravenous   \n",
       "9998      No                No                 No     No   Blood Work   \n",
       "9999      No               Yes                 No     No   Blood Work   \n",
       "\n",
       "      Initial_days  TotalCharge  Additional_charges  Item1  Item2  Item3  \\\n",
       "0        10.585770  3726.702860        17939.403420      3      3      2   \n",
       "1        15.129562  4193.190458        17612.998120      3      4      3   \n",
       "2         4.772177  2434.234222        17505.192460      2      4      4   \n",
       "3         1.714879  2127.830423        12993.437350      3      5      5   \n",
       "4         1.254807  2113.073274         3716.525786      2      1      3   \n",
       "...            ...          ...                 ...    ...    ...    ...   \n",
       "9995     51.561220  6850.942000         8927.642000      3      2      2   \n",
       "9996     68.668240  7741.690000        28507.150000      3      3      4   \n",
       "9997     70.154180  8276.481000        15281.210000      3      3      3   \n",
       "9998     63.356900  7644.483000         7781.678000      5      5      3   \n",
       "9999     70.850590  7887.553000        11643.190000      4      3      3   \n",
       "\n",
       "      Item4  Item5  Item6  Item7  Item8  \n",
       "0         2      4      3      3      4  \n",
       "1         4      4      4      3      3  \n",
       "2         4      3      4      3      3  \n",
       "3         3      4      5      5      5  \n",
       "4         3      5      3      4      3  \n",
       "...     ...    ...    ...    ...    ...  \n",
       "9995      3      4      3      4      2  \n",
       "9996      2      5      3      4      4  \n",
       "9997      4      4      2      3      2  \n",
       "9998      4      4      3      4      3  \n",
       "9999      2      3      6      4      3  \n",
       "\n",
       "[10000 rows x 50 columns]"
      ]
     },
     "execution_count": 68,
     "metadata": {},
     "output_type": "execute_result"
    }
   ],
   "source": [
    "# change population density areas from stg to int\n",
    "# create pop_den dict\n",
    "dict_pop_den = {'Area': {'Urban':1, 'Suburban':2, 'Rural':3}}\n",
    "med_df.replace(dict_pop_den, inplace = True)\n",
    "\n",
    "# rename job\n",
    "med_df.rename(columns={'Job':'Insured_Job'})"
   ]
  },
  {
   "cell_type": "code",
   "execution_count": 69,
   "id": "45c40253",
   "metadata": {},
   "outputs": [],
   "source": [
    "#change gender\n",
    "gen_dict = {'Gender': {'Male':1, 'Female':2, 'Nonbinary':3}}\n",
    "med_df.replace(gen_dict, inplace = True)"
   ]
  },
  {
   "cell_type": "code",
   "execution_count": 70,
   "id": "a8445b24",
   "metadata": {},
   "outputs": [],
   "source": [
    "#change marital status\n",
    "mar_dict = {'Marital': {'Never Married': 0, 'Married':1, 'Separated':2, 'Divorced':3, 'Widowed':4}}\n",
    "med_df.replace(mar_dict, inplace=True)"
   ]
  },
  {
   "cell_type": "code",
   "execution_count": 71,
   "id": "4a08ef0f",
   "metadata": {},
   "outputs": [],
   "source": [
    "# change complication\n",
    "comp_dict  = {'Complication_risk': {'High':3, 'Medium':2, 'Low':1}}\n",
    "med_df.replace(comp_dict, inplace=True)"
   ]
  },
  {
   "cell_type": "code",
   "execution_count": 72,
   "id": "0863ca41",
   "metadata": {},
   "outputs": [],
   "source": [
    "# rename survey items to accurately reflect questions\n",
    "med_df.rename(columns = {'Item1':'TimelyAdmin', 'Item2':'TimelyTreat', 'Item3':'TimelyVisit', 'Item4':'Reliability', 'Item5':'Options', 'Item6':'HoursTreat', 'Item7':'StaffAtt', 'Item8':'DocListen'}, inplace=True)\n"
   ]
  },
  {
   "cell_type": "code",
   "execution_count": 73,
   "id": "e7a8f7e8",
   "metadata": {},
   "outputs": [],
   "source": [
    "# change all yes/no \n",
    "med_df.replace({'Yes':1,\n",
    "                  'No':0}, inplace=True)"
   ]
  },
  {
   "cell_type": "code",
   "execution_count": 74,
   "id": "c35d8626",
   "metadata": {},
   "outputs": [],
   "source": [
    "# drop redundant location info \n",
    "med_df = med_df.drop(med_df.columns[8:12], axis=1)"
   ]
  },
  {
   "cell_type": "code",
   "execution_count": 75,
   "id": "33c3344e",
   "metadata": {},
   "outputs": [],
   "source": [
    "# change admission type\n",
    "admin_dict  = {'Initial_admin': {'Observation Admission':3, 'Elective Admission':2, 'Emergency Admission':1}}\n",
    "med_df.replace(admin_dict, inplace=True)"
   ]
  },
  {
   "cell_type": "code",
   "execution_count": 76,
   "id": "d351afb7",
   "metadata": {},
   "outputs": [],
   "source": [
    "# change services\n",
    "services_dict  = {'Services': {'Blood Work':4, 'Intravenous':3, 'CT Scan':2, 'MRI':1}}\n",
    "med_df.replace(services_dict, inplace=True)"
   ]
  },
  {
   "cell_type": "code",
   "execution_count": 77,
   "id": "643ffc19",
   "metadata": {},
   "outputs": [
    {
     "name": "stdout",
     "output_type": "stream",
     "text": [
      "         CaseOrder           Zip      Children           Age         Income  \\\n",
      "count  10000.00000  10000.000000  10000.000000  10000.000000   10000.000000   \n",
      "mean    5000.50000  50159.323900      2.097200     53.511700   40490.495160   \n",
      "std     2886.89568  27469.588208      2.163659     20.638538   28521.153293   \n",
      "min        1.00000    610.000000      0.000000     18.000000     154.080000   \n",
      "25%     2500.75000  27592.000000      0.000000     36.000000   19598.775000   \n",
      "50%     5000.50000  50207.000000      1.000000     53.000000   33768.420000   \n",
      "75%     7500.25000  72411.750000      3.000000     71.000000   54296.402500   \n",
      "max    10000.00000  99929.000000     10.000000     89.000000  207249.100000   \n",
      "\n",
      "            Marital        Gender       ReAdmis   VitD_levels    Doc_visits  \\\n",
      "count  10000.000000  10000.000000  10000.000000  10000.000000  10000.000000   \n",
      "mean       2.006000      1.544600      0.366900     17.964262      5.012200   \n",
      "std        1.417803      0.539296      0.481983      2.017231      1.045734   \n",
      "min        0.000000      1.000000      0.000000      9.806483      1.000000   \n",
      "25%        1.000000      1.000000      0.000000     16.626439      4.000000   \n",
      "50%        2.000000      2.000000      0.000000     17.951122      5.000000   \n",
      "75%        3.000000      2.000000      1.000000     19.347963      6.000000   \n",
      "max        4.000000      3.000000      1.000000     26.394449      9.000000   \n",
      "\n",
      "       Full_meals_eaten     vitD_supp    Soft_drink  Initial_admin  \\\n",
      "count      10000.000000  10000.000000  10000.000000   10000.000000   \n",
      "mean           1.001400      0.398900      0.257500       1.737600   \n",
      "std            1.008117      0.628505      0.437279       0.825115   \n",
      "min            0.000000      0.000000      0.000000       1.000000   \n",
      "25%            0.000000      0.000000      0.000000       1.000000   \n",
      "50%            1.000000      0.000000      0.000000       1.000000   \n",
      "75%            2.000000      1.000000      1.000000       2.000000   \n",
      "max            7.000000      5.000000      1.000000       3.000000   \n",
      "\n",
      "          HighBlood        Stroke  Complication_risk    Overweight  \\\n",
      "count  10000.000000  10000.000000       10000.000000  10000.000000   \n",
      "mean       0.409000      0.199300           2.123300      0.709400   \n",
      "std        0.491674      0.399494           0.730172      0.454062   \n",
      "min        0.000000      0.000000           1.000000      0.000000   \n",
      "25%        0.000000      0.000000           2.000000      0.000000   \n",
      "50%        0.000000      0.000000           2.000000      1.000000   \n",
      "75%        1.000000      0.000000           3.000000      1.000000   \n",
      "max        1.000000      1.000000           3.000000      1.000000   \n",
      "\n",
      "          Arthritis     Diabetes  Hyperlipidemia      BackPain       Anxiety  \\\n",
      "count  10000.000000  10000.00000    10000.000000  10000.000000  10000.000000   \n",
      "mean       0.357400      0.27380        0.337200      0.411400      0.321500   \n",
      "std        0.479258      0.44593        0.472777      0.492112      0.467076   \n",
      "min        0.000000      0.00000        0.000000      0.000000      0.000000   \n",
      "25%        0.000000      0.00000        0.000000      0.000000      0.000000   \n",
      "50%        0.000000      0.00000        0.000000      0.000000      0.000000   \n",
      "75%        1.000000      1.00000        1.000000      1.000000      1.000000   \n",
      "max        1.000000      1.00000        1.000000      1.000000      1.000000   \n",
      "\n",
      "       Allergic_rhinitis  Reflux_esophagitis       Asthma      Services  \\\n",
      "count       10000.000000        10000.000000  10000.00000  10000.000000   \n",
      "mean            0.394100            0.413500      0.28930      3.328000   \n",
      "std             0.488681            0.492486      0.45346      0.832758   \n",
      "min             0.000000            0.000000      0.00000      1.000000   \n",
      "25%             0.000000            0.000000      0.00000      3.000000   \n",
      "50%             0.000000            0.000000      0.00000      4.000000   \n",
      "75%             1.000000            1.000000      1.00000      4.000000   \n",
      "max             1.000000            1.000000      1.00000      4.000000   \n",
      "\n",
      "       Initial_days   TotalCharge  Additional_charges   TimelyAdmin  \\\n",
      "count  10000.000000  10000.000000        10000.000000  10000.000000   \n",
      "mean      34.455299   5312.172769        12934.528587      3.518800   \n",
      "std       26.309341   2180.393838         6542.601544      1.031966   \n",
      "min        1.001981   1938.312067         3125.703000      1.000000   \n",
      "25%        7.896215   3179.374015         7986.487755      3.000000   \n",
      "50%       35.836244   5213.952000        11573.977735      4.000000   \n",
      "75%       61.161020   7459.699750        15626.490000      4.000000   \n",
      "max       71.981490   9180.728000        30566.070000      8.000000   \n",
      "\n",
      "        TimelyTreat   TimelyVisit   Reliability       Options    HoursTreat  \\\n",
      "count  10000.000000  10000.000000  10000.000000  10000.000000  10000.000000   \n",
      "mean       3.506700      3.511100      3.515100      3.496900      3.522500   \n",
      "std        1.034825      1.032755      1.036282      1.030192      1.032376   \n",
      "min        1.000000      1.000000      1.000000      1.000000      1.000000   \n",
      "25%        3.000000      3.000000      3.000000      3.000000      3.000000   \n",
      "50%        3.000000      4.000000      4.000000      3.000000      4.000000   \n",
      "75%        4.000000      4.000000      4.000000      4.000000      4.000000   \n",
      "max        7.000000      8.000000      7.000000      7.000000      7.000000   \n",
      "\n",
      "           StaffAtt     DocListen  \n",
      "count  10000.000000  10000.000000  \n",
      "mean       3.494000      3.509700  \n",
      "std        1.021405      1.042312  \n",
      "min        1.000000      1.000000  \n",
      "25%        3.000000      3.000000  \n",
      "50%        3.000000      3.000000  \n",
      "75%        4.000000      4.000000  \n",
      "max        7.000000      7.000000  \n"
     ]
    }
   ],
   "source": [
    "print(med_df.describe())"
   ]
  },
  {
   "cell_type": "code",
   "execution_count": 78,
   "id": "74cd9e4d",
   "metadata": {},
   "outputs": [
    {
     "name": "stdout",
     "output_type": "stream",
     "text": [
      "<class 'pandas.core.frame.DataFrame'>\n",
      "RangeIndex: 10000 entries, 0 to 9999\n",
      "Data columns (total 46 columns):\n",
      " #   Column              Non-Null Count  Dtype  \n",
      "---  ------              --------------  -----  \n",
      " 0   CaseOrder           10000 non-null  int64  \n",
      " 1   Customer_id         10000 non-null  object \n",
      " 2   Interaction         10000 non-null  object \n",
      " 3   UID                 10000 non-null  object \n",
      " 4   City                10000 non-null  object \n",
      " 5   State               10000 non-null  object \n",
      " 6   County              10000 non-null  object \n",
      " 7   Zip                 10000 non-null  int64  \n",
      " 8   TimeZone            10000 non-null  object \n",
      " 9   Job                 10000 non-null  object \n",
      " 10  Children            10000 non-null  int64  \n",
      " 11  Age                 10000 non-null  int64  \n",
      " 12  Income              10000 non-null  float64\n",
      " 13  Marital             10000 non-null  int64  \n",
      " 14  Gender              10000 non-null  int64  \n",
      " 15  ReAdmis             10000 non-null  int64  \n",
      " 16  VitD_levels         10000 non-null  float64\n",
      " 17  Doc_visits          10000 non-null  int64  \n",
      " 18  Full_meals_eaten    10000 non-null  int64  \n",
      " 19  vitD_supp           10000 non-null  int64  \n",
      " 20  Soft_drink          10000 non-null  int64  \n",
      " 21  Initial_admin       10000 non-null  int64  \n",
      " 22  HighBlood           10000 non-null  int64  \n",
      " 23  Stroke              10000 non-null  int64  \n",
      " 24  Complication_risk   10000 non-null  int64  \n",
      " 25  Overweight          10000 non-null  int64  \n",
      " 26  Arthritis           10000 non-null  int64  \n",
      " 27  Diabetes            10000 non-null  int64  \n",
      " 28  Hyperlipidemia      10000 non-null  int64  \n",
      " 29  BackPain            10000 non-null  int64  \n",
      " 30  Anxiety             10000 non-null  int64  \n",
      " 31  Allergic_rhinitis   10000 non-null  int64  \n",
      " 32  Reflux_esophagitis  10000 non-null  int64  \n",
      " 33  Asthma              10000 non-null  int64  \n",
      " 34  Services            10000 non-null  int64  \n",
      " 35  Initial_days        10000 non-null  float64\n",
      " 36  TotalCharge         10000 non-null  float64\n",
      " 37  Additional_charges  10000 non-null  float64\n",
      " 38  TimelyAdmin         10000 non-null  int64  \n",
      " 39  TimelyTreat         10000 non-null  int64  \n",
      " 40  TimelyVisit         10000 non-null  int64  \n",
      " 41  Reliability         10000 non-null  int64  \n",
      " 42  Options             10000 non-null  int64  \n",
      " 43  HoursTreat          10000 non-null  int64  \n",
      " 44  StaffAtt            10000 non-null  int64  \n",
      " 45  DocListen           10000 non-null  int64  \n",
      "dtypes: float64(5), int64(33), object(8)\n",
      "memory usage: 3.5+ MB\n"
     ]
    }
   ],
   "source": [
    "med_df.info()"
   ]
  },
  {
   "cell_type": "code",
   "execution_count": 79,
   "id": "813d37c8",
   "metadata": {},
   "outputs": [
    {
     "data": {
      "image/png": "[encoded data removed]",
      "text/plain": [
       "<Figure size 432x288 with 9 Axes>"
      ]
     },
     "metadata": {
      "needs_background": "light"
     },
     "output_type": "display_data"
    }
   ],
   "source": [
    "# histograms of continuous variables\n",
    "med_df[['Children', 'Age', 'Income', 'VitD_levels', 'Doc_visits', 'Full_meals_eaten', 'Initial_days', 'TotalCharge', 'Additional_charges']].hist()\n",
    "plt.tight_layout()"
   ]
  },
  {
   "cell_type": "code",
   "execution_count": 80,
   "id": "10e343e8",
   "metadata": {},
   "outputs": [
    {
     "data": {
      "image/png": "[encoded data removed]",
      "text/plain": [
       "<Figure size 432x288 with 1 Axes>"
      ]
     },
     "metadata": {
      "needs_background": "light"
     },
     "output_type": "display_data"
    },
    {
     "data": {
      "image/png": "[encoded data removed]",
      "text/plain": [
       "<Figure size 432x288 with 1 Axes>"
      ]
     },
     "metadata": {
      "needs_background": "light"
     },
     "output_type": "display_data"
    },
    {
     "data": {
      "image/png": "[encoded data removed]",
      "text/plain": [
       "<Figure size 432x288 with 1 Axes>"
      ]
     },
     "metadata": {
      "needs_background": "light"
     },
     "output_type": "display_data"
    },
    {
     "data": {
      "image/png": "[encoded data removed]",
      "text/plain": [
       "<Figure size 432x288 with 1 Axes>"
      ]
     },
     "metadata": {
      "needs_background": "light"
     },
     "output_type": "display_data"
    },
    {
     "data": {
      "image/png": "[encoded data removed]",
      "text/plain": [
       "<Figure size 432x288 with 1 Axes>"
      ]
     },
     "metadata": {
      "needs_background": "light"
     },
     "output_type": "display_data"
    },
    {
     "data": {
      "image/png": "[encoded data removed]",
      "text/plain": [
       "<Figure size 432x288 with 1 Axes>"
      ]
     },
     "metadata": {
      "needs_background": "light"
     },
     "output_type": "display_data"
    },
    {
     "data": {
      "image/png": "[encoded data removed]",
      "text/plain": [
       "<Figure size 432x288 with 1 Axes>"
      ]
     },
     "metadata": {
      "needs_background": "light"
     },
     "output_type": "display_data"
    },
    {
     "data": {
      "image/png": "[encoded data removed]",
      "text/plain": [
       "<Figure size 432x288 with 1 Axes>"
      ]
     },
     "metadata": {
      "needs_background": "light"
     },
     "output_type": "display_data"
    },
    {
     "data": {
      "image/png": "[encoded data removed]",
      "text/plain": [
       "<Figure size 432x288 with 1 Axes>"
      ]
     },
     "metadata": {
      "needs_background": "light"
     },
     "output_type": "display_data"
    }
   ],
   "source": [
    "# boxplots for continuous variables\n",
    "sns.boxplot('Children', data=med_df)\n",
    "plt.show()\n",
    "sns.boxplot('Age', data=med_df)\n",
    "plt.show()\n",
    "sns.boxplot('Income', data=med_df)\n",
    "plt.show()\n",
    "sns.boxplot('VitD_levels', data=med_df)\n",
    "plt.show()\n",
    "sns.boxplot('Doc_visits', data=med_df)\n",
    "plt.show()\n",
    "sns.boxplot('Full_meals_eaten', data=med_df)\n",
    "plt.show()\n",
    "sns.boxplot('Initial_days', data=med_df)\n",
    "plt.show()\n",
    "sns.boxplot('TotalCharge', data=med_df)\n",
    "plt.show()\n",
    "sns.boxplot('Additional_charges', data=med_df)\n",
    "plt.show()\n"
   ]
  },
  {
   "cell_type": "code",
   "execution_count": 81,
   "id": "cbb902e8",
   "metadata": {},
   "outputs": [],
   "source": [
    "med_df['Income']= winsorize(med_df['Income'], limits=[0.05, 0.05])"
   ]
  },
  {
   "cell_type": "code",
   "execution_count": 82,
   "id": "484572da",
   "metadata": {},
   "outputs": [],
   "source": [
    "med_df['Children']= winsorize(med_df['Children'], limits=[0.05, 0.05])"
   ]
  },
  {
   "cell_type": "code",
   "execution_count": 83,
   "id": "4e190dd1",
   "metadata": {},
   "outputs": [],
   "source": [
    "med_df['VitD_levels']= winsorize(med_df['VitD_levels'], limits=[0.05, 0.05])"
   ]
  },
  {
   "cell_type": "code",
   "execution_count": 84,
   "id": "57af0cd5",
   "metadata": {},
   "outputs": [],
   "source": [
    "med_df['Full_meals_eaten']= winsorize(med_df['Full_meals_eaten'], limits=[0.05, 0.05])"
   ]
  },
  {
   "cell_type": "code",
   "execution_count": 85,
   "id": "1793534b",
   "metadata": {},
   "outputs": [],
   "source": [
    "med_df['Additional_charges']= winsorize(med_df['Additional_charges'], limits=[0.05, 0.05])"
   ]
  },
  {
   "cell_type": "code",
   "execution_count": 86,
   "id": "a5dd9cb4",
   "metadata": {},
   "outputs": [
    {
     "data": {
      "image/png": "[encoded data removed]",
      "text/plain": [
       "<Figure size 432x288 with 1 Axes>"
      ]
     },
     "metadata": {
      "needs_background": "light"
     },
     "output_type": "display_data"
    },
    {
     "data": {
      "image/png": "[encoded data removed]",
      "text/plain": [
       "<Figure size 432x288 with 1 Axes>"
      ]
     },
     "metadata": {
      "needs_background": "light"
     },
     "output_type": "display_data"
    },
    {
     "data": {
      "image/png": "[encoded data removed]",
      "text/plain": [
       "<Figure size 432x288 with 1 Axes>"
      ]
     },
     "metadata": {
      "needs_background": "light"
     },
     "output_type": "display_data"
    },
    {
     "data": {
      "image/png": "[encoded data removed]",
      "text/plain": [
       "<Figure size 432x288 with 1 Axes>"
      ]
     },
     "metadata": {
      "needs_background": "light"
     },
     "output_type": "display_data"
    },
    {
     "data": {
      "image/png": "[encoded data removed]",
      "text/plain": [
       "<Figure size 432x288 with 1 Axes>"
      ]
     },
     "metadata": {
      "needs_background": "light"
     },
     "output_type": "display_data"
    }
   ],
   "source": [
    "# boxplots for continuous variables after trimming\n",
    "sns.boxplot('Children', data=med_df)\n",
    "plt.show()\n",
    "sns.boxplot('Income', data=med_df)\n",
    "plt.show()\n",
    "sns.boxplot('VitD_levels', data=med_df)\n",
    "plt.show()\n",
    "sns.boxplot('Full_meals_eaten', data=med_df)\n",
    "plt.show()\n",
    "sns.boxplot('Additional_charges', data=med_df)\n",
    "plt.show()"
   ]
  },
  {
   "cell_type": "code",
   "execution_count": 87,
   "id": "4450a467",
   "metadata": {},
   "outputs": [
    {
     "data": {
      "text/plain": [
       "([<matplotlib.axis.YTick at 0x24a819712e0>,\n",
       "  <matplotlib.axis.YTick at 0x24a81943b20>],\n",
       " [Text(0, 0, 'No'), Text(0, 1, 'Yes')])"
      ]
     },
     "execution_count": 87,
     "metadata": {},
     "output_type": "execute_result"
    },
    {
     "data": {
      "image/png": "[encoded data removed]",
      "text/plain": [
       "<Figure size 432x288 with 1 Axes>"
      ]
     },
     "metadata": {
      "needs_background": "light"
     },
     "output_type": "display_data"
    }
   ],
   "source": [
    "#create scatterplots of all explanatory variables vs response variable\n",
    "sns.scatterplot(x='Children', y='ReAdmis', data=med_df)\n",
    "plt.yticks([0,1], ['No', 'Yes'])"
   ]
  },
  {
   "cell_type": "code",
   "execution_count": 88,
   "id": "07258c67",
   "metadata": {},
   "outputs": [
    {
     "data": {
      "text/plain": [
       "([<matplotlib.axis.YTick at 0x24a819929a0>,\n",
       "  <matplotlib.axis.YTick at 0x24a819660d0>],\n",
       " [Text(0, 0, 'No'), Text(0, 1, 'Yes')])"
      ]
     },
     "execution_count": 88,
     "metadata": {},
     "output_type": "execute_result"
    },
    {
     "data": {
      "image/png": "[encoded data removed]",
      "text/plain": [
       "<Figure size 432x288 with 1 Axes>"
      ]
     },
     "metadata": {
      "needs_background": "light"
     },
     "output_type": "display_data"
    }
   ],
   "source": [
    "sns.scatterplot(x='Age', y='ReAdmis', data=med_df)\n",
    "plt.yticks([0,1], ['No', 'Yes'])"
   ]
  },
  {
   "cell_type": "code",
   "execution_count": 89,
   "id": "40c1cf89",
   "metadata": {},
   "outputs": [
    {
     "data": {
      "text/plain": [
       "([<matplotlib.axis.YTick at 0x24a8298a8e0>,\n",
       "  <matplotlib.axis.YTick at 0x24a8298a160>],\n",
       " [Text(0, 0, 'No'), Text(0, 1, 'Yes')])"
      ]
     },
     "execution_count": 89,
     "metadata": {},
     "output_type": "execute_result"
    },
    {
     "data": {
      "image/png": "[encoded data removed]",
      "text/plain": [
       "<Figure size 432x288 with 1 Axes>"
      ]
     },
     "metadata": {
      "needs_background": "light"
     },
     "output_type": "display_data"
    }
   ],
   "source": [
    "sns.scatterplot(x='Income', y='ReAdmis', data=med_df)\n",
    "plt.yticks([0,1], ['No', 'Yes'])"
   ]
  },
  {
   "cell_type": "code",
   "execution_count": 90,
   "id": "0f43c2fe",
   "metadata": {},
   "outputs": [
    {
     "data": {
      "text/plain": [
       "([<matplotlib.axis.XTick at 0x24a829e4640>,\n",
       "  <matplotlib.axis.XTick at 0x24a829e4610>,\n",
       "  <matplotlib.axis.XTick at 0x24a82a0bdc0>,\n",
       "  <matplotlib.axis.XTick at 0x24a82a18c70>,\n",
       "  <matplotlib.axis.XTick at 0x24a82a18e80>],\n",
       " [Text(0, 0, 'Never Married'),\n",
       "  Text(1, 0, 'Married'),\n",
       "  Text(2, 0, 'Separated'),\n",
       "  Text(3, 0, 'Divorced'),\n",
       "  Text(4, 0, 'Widowed')])"
      ]
     },
     "execution_count": 90,
     "metadata": {},
     "output_type": "execute_result"
    },
    {
     "data": {
      "image/png": "[encoded data removed]",
      "text/plain": [
       "<Figure size 432x288 with 1 Axes>"
      ]
     },
     "metadata": {
      "needs_background": "light"
     },
     "output_type": "display_data"
    }
   ],
   "source": [
    "sns.scatterplot(x='Marital', y='ReAdmis', data=med_df)\n",
    "plt.yticks([0,1], ['No', 'Yes'])\n",
    "plt.xticks([0,1,2,3,4], ['Never Married', 'Married', 'Separated', 'Divorced', 'Widowed'])"
   ]
  },
  {
   "cell_type": "code",
   "execution_count": 91,
   "id": "bca68cc3",
   "metadata": {},
   "outputs": [
    {
     "data": {
      "text/plain": [
       "([<matplotlib.axis.YTick at 0x24a82a56190>,\n",
       "  <matplotlib.axis.YTick at 0x24a82a519d0>],\n",
       " [Text(0, 0, 'No'), Text(0, 1, 'Yes')])"
      ]
     },
     "execution_count": 91,
     "metadata": {},
     "output_type": "execute_result"
    },
    {
     "data": {
      "image/png": "[encoded data removed]",
      "text/plain": [
       "<Figure size 432x288 with 1 Axes>"
      ]
     },
     "metadata": {
      "needs_background": "light"
     },
     "output_type": "display_data"
    }
   ],
   "source": [
    "sns.scatterplot(x='Gender', y='ReAdmis', data=med_df)\n",
    "plt.xticks([1,2,3], ['Male', 'Female', 'NB'])\n",
    "plt.yticks([0,1], ['No', 'Yes'])"
   ]
  },
  {
   "cell_type": "code",
   "execution_count": 92,
   "id": "52d8f650",
   "metadata": {},
   "outputs": [
    {
     "data": {
      "text/plain": [
       "([<matplotlib.axis.YTick at 0x24a81b14d90>,\n",
       "  <matplotlib.axis.YTick at 0x24a81b14220>],\n",
       " [Text(0, 0, 'No'), Text(0, 1, 'Yes')])"
      ]
     },
     "execution_count": 92,
     "metadata": {},
     "output_type": "execute_result"
    },
    {
     "data": {
      "image/png": "[encoded data removed]",
      "text/plain": [
       "<Figure size 432x288 with 1 Axes>"
      ]
     },
     "metadata": {
      "needs_background": "light"
     },
     "output_type": "display_data"
    }
   ],
   "source": [
    "sns.scatterplot(x='Additional_charges', y='ReAdmis', data=med_df)\n",
    "plt.yticks([0,1], ['No', 'Yes'])"
   ]
  },
  {
   "cell_type": "code",
   "execution_count": 93,
   "id": "d09296ff",
   "metadata": {},
   "outputs": [
    {
     "data": {
      "text/plain": [
       "([<matplotlib.axis.YTick at 0x24a819e5820>,\n",
       "  <matplotlib.axis.YTick at 0x24a819e5b20>],\n",
       " [Text(0, 0, 'No'), Text(0, 1, 'Yes')])"
      ]
     },
     "execution_count": 93,
     "metadata": {},
     "output_type": "execute_result"
    },
    {
     "data": {
      "image/png": "[encoded data removed]",
      "text/plain": [
       "<Figure size 432x288 with 1 Axes>"
      ]
     },
     "metadata": {
      "needs_background": "light"
     },
     "output_type": "display_data"
    }
   ],
   "source": [
    "sns.scatterplot(x='VitD_levels', y='ReAdmis', data=med_df)\n",
    "plt.yticks([0,1], ['No', 'Yes'])"
   ]
  },
  {
   "cell_type": "code",
   "execution_count": 94,
   "id": "bdd5ad90",
   "metadata": {},
   "outputs": [
    {
     "data": {
      "text/plain": [
       "([<matplotlib.axis.YTick at 0x24ae1d1b1c0>,\n",
       "  <matplotlib.axis.YTick at 0x24a827623d0>],\n",
       " [Text(0, 0, 'No'), Text(0, 1, 'Yes')])"
      ]
     },
     "execution_count": 94,
     "metadata": {},
     "output_type": "execute_result"
    },
    {
     "data": {
      "image/png": "[encoded data removed]",
      "text/plain": [
       "<Figure size 432x288 with 1 Axes>"
      ]
     },
     "metadata": {
      "needs_background": "light"
     },
     "output_type": "display_data"
    }
   ],
   "source": [
    "sns.scatterplot(x='Doc_visits', y='ReAdmis', data=med_df)\n",
    "plt.yticks([0,1], ['No', 'Yes'])"
   ]
  },
  {
   "cell_type": "code",
   "execution_count": 95,
   "id": "5062ba68",
   "metadata": {},
   "outputs": [
    {
     "data": {
      "text/plain": [
       "([<matplotlib.axis.YTick at 0x24a81c52bb0>,\n",
       "  <matplotlib.axis.YTick at 0x24ae1d0ea90>],\n",
       " [Text(0, 0, 'No'), Text(0, 1, 'Yes')])"
      ]
     },
     "execution_count": 95,
     "metadata": {},
     "output_type": "execute_result"
    },
    {
     "data": {
      "image/png": "[encoded data removed]",
      "text/plain": [
       "<Figure size 432x288 with 1 Axes>"
      ]
     },
     "metadata": {
      "needs_background": "light"
     },
     "output_type": "display_data"
    }
   ],
   "source": [
    "sns.scatterplot(x='Full_meals_eaten', y='ReAdmis', data=med_df)\n",
    "plt.yticks([0,1], ['No', 'Yes'])"
   ]
  },
  {
   "cell_type": "code",
   "execution_count": 96,
   "id": "87571ab8",
   "metadata": {},
   "outputs": [
    {
     "data": {
      "text/plain": [
       "([<matplotlib.axis.YTick at 0x24a81c1eca0>,\n",
       "  <matplotlib.axis.YTick at 0x24a81c1e550>],\n",
       " [Text(0, 0, 'No'), Text(0, 1, 'Yes')])"
      ]
     },
     "execution_count": 96,
     "metadata": {},
     "output_type": "execute_result"
    },
    {
     "data": {
      "image/png": "[encoded data removed]",
      "text/plain": [
       "<Figure size 432x288 with 1 Axes>"
      ]
     },
     "metadata": {
      "needs_background": "light"
     },
     "output_type": "display_data"
    }
   ],
   "source": [
    "sns.scatterplot(x='vitD_supp', y='ReAdmis', data=med_df)\n",
    "plt.yticks([0,1], ['No', 'Yes'])\n"
   ]
  },
  {
   "cell_type": "code",
   "execution_count": 97,
   "id": "26aeece6",
   "metadata": {},
   "outputs": [
    {
     "data": {
      "text/plain": [
       "([<matplotlib.axis.YTick at 0x24a819ff430>,\n",
       "  <matplotlib.axis.YTick at 0x24a819ffd00>],\n",
       " [Text(0, 0, 'No'), Text(0, 1, 'Yes')])"
      ]
     },
     "execution_count": 97,
     "metadata": {},
     "output_type": "execute_result"
    },
    {
     "data": {
      "image/png": "[encoded data removed]",
      "text/plain": [
       "<Figure size 432x288 with 1 Axes>"
      ]
     },
     "metadata": {
      "needs_background": "light"
     },
     "output_type": "display_data"
    }
   ],
   "source": [
    "sns.scatterplot(x='Initial_admin', y='ReAdmis', data=med_df)\n",
    "plt.xticks([1,2,3], ['Emergency', 'Elective', 'Observation'])\n",
    "plt.yticks([0,1], ['No', 'Yes'])"
   ]
  },
  {
   "cell_type": "code",
   "execution_count": 98,
   "id": "3ba100d6",
   "metadata": {},
   "outputs": [
    {
     "data": {
      "text/plain": [
       "([<matplotlib.axis.XTick at 0x24a82700e50>,\n",
       "  <matplotlib.axis.XTick at 0x24a82700e20>],\n",
       " [Text(0, 0, 'No'), Text(1, 0, 'Yes')])"
      ]
     },
     "execution_count": 98,
     "metadata": {},
     "output_type": "execute_result"
    },
    {
     "data": {
      "image/png": "[encoded data removed]",
      "text/plain": [
       "<Figure size 432x288 with 1 Axes>"
      ]
     },
     "metadata": {
      "needs_background": "light"
     },
     "output_type": "display_data"
    }
   ],
   "source": [
    "sns.scatterplot(x='HighBlood', y='ReAdmis', data=med_df)\n",
    "plt.yticks([0,1], ['No', 'Yes'])\n",
    "plt.xticks([0,1], ['No', 'Yes'])"
   ]
  },
  {
   "cell_type": "code",
   "execution_count": 99,
   "id": "52902551",
   "metadata": {},
   "outputs": [
    {
     "data": {
      "text/plain": [
       "([<matplotlib.axis.XTick at 0x24a819287f0>,\n",
       "  <matplotlib.axis.XTick at 0x24a819287c0>],\n",
       " [Text(0, 0, 'No'), Text(1, 0, 'Yes')])"
      ]
     },
     "execution_count": 99,
     "metadata": {},
     "output_type": "execute_result"
    },
    {
     "data": {
      "image/png": "[encoded data removed]",
      "text/plain": [
       "<Figure size 432x288 with 1 Axes>"
      ]
     },
     "metadata": {
      "needs_background": "light"
     },
     "output_type": "display_data"
    }
   ],
   "source": [
    "sns.scatterplot(x='Stroke', y='ReAdmis', data=med_df)\n",
    "plt.yticks([0,1], ['No', 'Yes'])\n",
    "plt.xticks([0,1], ['No', 'Yes'])"
   ]
  },
  {
   "cell_type": "code",
   "execution_count": 100,
   "id": "7b5ff934",
   "metadata": {},
   "outputs": [
    {
     "data": {
      "text/plain": [
       "([<matplotlib.axis.XTick at 0x24a819e4130>,\n",
       "  <matplotlib.axis.XTick at 0x24a819e4100>],\n",
       " [Text(0, 0, 'No'), Text(1, 0, 'Yes')])"
      ]
     },
     "execution_count": 100,
     "metadata": {},
     "output_type": "execute_result"
    },
    {
     "data": {
      "image/png": "[encoded data removed]",
      "text/plain": [
       "<Figure size 432x288 with 1 Axes>"
      ]
     },
     "metadata": {
      "needs_background": "light"
     },
     "output_type": "display_data"
    }
   ],
   "source": [
    "sns.scatterplot(x='Overweight', y='ReAdmis', data=med_df)\n",
    "plt.yticks([0,1], ['No', 'Yes'])\n",
    "plt.xticks([0,1], ['No', 'Yes'])"
   ]
  },
  {
   "cell_type": "code",
   "execution_count": 101,
   "id": "4e67ab24",
   "metadata": {},
   "outputs": [
    {
     "data": {
      "text/plain": [
       "([<matplotlib.axis.XTick at 0x24a82ad1a00>,\n",
       "  <matplotlib.axis.XTick at 0x24a82ad19d0>],\n",
       " [Text(0, 0, 'No'), Text(1, 0, 'Yes')])"
      ]
     },
     "execution_count": 101,
     "metadata": {},
     "output_type": "execute_result"
    },
    {
     "data": {
      "image/png": "[encoded data removed]",
      "text/plain": [
       "<Figure size 432x288 with 1 Axes>"
      ]
     },
     "metadata": {
      "needs_background": "light"
     },
     "output_type": "display_data"
    }
   ],
   "source": [
    "sns.scatterplot(x='Arthritis', y='ReAdmis', data=med_df)\n",
    "plt.yticks([0,1], ['No', 'Yes'])\n",
    "plt.xticks([0,1], ['No', 'Yes'])"
   ]
  },
  {
   "cell_type": "code",
   "execution_count": 102,
   "id": "3910ba7a",
   "metadata": {},
   "outputs": [
    {
     "data": {
      "text/plain": [
       "([<matplotlib.axis.XTick at 0x24a81bd73a0>,\n",
       "  <matplotlib.axis.XTick at 0x24a81bd7370>],\n",
       " [Text(0, 0, 'No'), Text(1, 0, 'Yes')])"
      ]
     },
     "execution_count": 102,
     "metadata": {},
     "output_type": "execute_result"
    },
    {
     "data": {
      "image/png": "[encoded data removed]",
      "text/plain": [
       "<Figure size 432x288 with 1 Axes>"
      ]
     },
     "metadata": {
      "needs_background": "light"
     },
     "output_type": "display_data"
    }
   ],
   "source": [
    "sns.scatterplot(x='Diabetes', y='ReAdmis', data=med_df)\n",
    "plt.yticks([0,1], ['No', 'Yes'])\n",
    "plt.xticks([0,1], ['No', 'Yes'])"
   ]
  },
  {
   "cell_type": "code",
   "execution_count": 103,
   "id": "adde4544",
   "metadata": {},
   "outputs": [
    {
     "data": {
      "text/plain": [
       "([<matplotlib.axis.XTick at 0x24a82745c70>,\n",
       "  <matplotlib.axis.XTick at 0x24a82745c40>],\n",
       " [Text(0, 0, 'No'), Text(1, 0, 'Yes')])"
      ]
     },
     "execution_count": 103,
     "metadata": {},
     "output_type": "execute_result"
    },
    {
     "data": {
      "image/png": "[encoded data removed]",
      "text/plain": [
       "<Figure size 432x288 with 1 Axes>"
      ]
     },
     "metadata": {
      "needs_background": "light"
     },
     "output_type": "display_data"
    }
   ],
   "source": [
    "sns.scatterplot(x='Hyperlipidemia', y='ReAdmis', data=med_df)\n",
    "plt.yticks([0,1], ['No', 'Yes'])\n",
    "plt.xticks([0,1], ['No', 'Yes'])"
   ]
  },
  {
   "cell_type": "code",
   "execution_count": 104,
   "id": "e0952dc8",
   "metadata": {},
   "outputs": [
    {
     "data": {
      "text/plain": [
       "([<matplotlib.axis.XTick at 0x24a8277c580>,\n",
       "  <matplotlib.axis.XTick at 0x24a8277c550>],\n",
       " [Text(0, 0, 'No'), Text(1, 0, 'Yes')])"
      ]
     },
     "execution_count": 104,
     "metadata": {},
     "output_type": "execute_result"
    },
    {
     "data": {
      "image/png": "[encoded data removed]",
      "text/plain": [
       "<Figure size 432x288 with 1 Axes>"
      ]
     },
     "metadata": {
      "needs_background": "light"
     },
     "output_type": "display_data"
    }
   ],
   "source": [
    "sns.scatterplot(x='BackPain', y='ReAdmis', data=med_df)\n",
    "plt.yticks([0,1], ['No', 'Yes'])\n",
    "plt.xticks([0,1], ['No', 'Yes'])"
   ]
  },
  {
   "cell_type": "code",
   "execution_count": 105,
   "id": "2fddf0fd",
   "metadata": {},
   "outputs": [
    {
     "data": {
      "text/plain": [
       "([<matplotlib.axis.XTick at 0x24a82b29f10>,\n",
       "  <matplotlib.axis.XTick at 0x24a82b29ee0>],\n",
       " [Text(0, 0, 'No'), Text(1, 0, 'Yes')])"
      ]
     },
     "execution_count": 105,
     "metadata": {},
     "output_type": "execute_result"
    },
    {
     "data": {
      "image/png": "[encoded data removed]",
      "text/plain": [
       "<Figure size 432x288 with 1 Axes>"
      ]
     },
     "metadata": {
      "needs_background": "light"
     },
     "output_type": "display_data"
    }
   ],
   "source": [
    "sns.scatterplot(x='Anxiety', y='ReAdmis', data=med_df)\n",
    "plt.yticks([0,1], ['No', 'Yes'])\n",
    "plt.xticks([0,1], ['No', 'Yes'])"
   ]
  },
  {
   "cell_type": "code",
   "execution_count": 106,
   "id": "b3b24886",
   "metadata": {},
   "outputs": [
    {
     "data": {
      "text/plain": [
       "([<matplotlib.axis.XTick at 0x24a82b8b820>,\n",
       "  <matplotlib.axis.XTick at 0x24a82b8b7f0>],\n",
       " [Text(0, 0, 'No'), Text(1, 0, 'Yes')])"
      ]
     },
     "execution_count": 106,
     "metadata": {},
     "output_type": "execute_result"
    },
    {
     "data": {
      "image/png": "[encoded data removed]",
      "text/plain": [
       "<Figure size 432x288 with 1 Axes>"
      ]
     },
     "metadata": {
      "needs_background": "light"
     },
     "output_type": "display_data"
    }
   ],
   "source": [
    "sns.scatterplot(x='Allergic_rhinitis', y='ReAdmis', data=med_df)\n",
    "plt.yticks([0,1], ['No', 'Yes'])\n",
    "plt.xticks([0,1], ['No', 'Yes'])"
   ]
  },
  {
   "cell_type": "code",
   "execution_count": 107,
   "id": "4ed74347",
   "metadata": {},
   "outputs": [
    {
     "data": {
      "text/plain": [
       "([<matplotlib.axis.XTick at 0x24a82bee100>,\n",
       "  <matplotlib.axis.XTick at 0x24a82bee0d0>],\n",
       " [Text(0, 0, 'No'), Text(1, 0, 'Yes')])"
      ]
     },
     "execution_count": 107,
     "metadata": {},
     "output_type": "execute_result"
    },
    {
     "data": {
      "image/png": "[encoded data removed]",
      "text/plain": [
       "<Figure size 432x288 with 1 Axes>"
      ]
     },
     "metadata": {
      "needs_background": "light"
     },
     "output_type": "display_data"
    }
   ],
   "source": [
    "sns.scatterplot(x='Reflux_esophagitis', y='ReAdmis', data=med_df)\n",
    "plt.yticks([0,1], ['No', 'Yes'])\n",
    "plt.xticks([0,1], ['No', 'Yes'])"
   ]
  },
  {
   "cell_type": "code",
   "execution_count": 108,
   "id": "0980dbb3",
   "metadata": {},
   "outputs": [
    {
     "data": {
      "text/plain": [
       "([<matplotlib.axis.XTick at 0x24a82c49ac0>,\n",
       "  <matplotlib.axis.XTick at 0x24a82c49a90>],\n",
       " [Text(0, 0, 'No'), Text(1, 0, 'Yes')])"
      ]
     },
     "execution_count": 108,
     "metadata": {},
     "output_type": "execute_result"
    },
    {
     "data": {
      "image/png": "[encoded data removed]",
      "text/plain": [
       "<Figure size 432x288 with 1 Axes>"
      ]
     },
     "metadata": {
      "needs_background": "light"
     },
     "output_type": "display_data"
    }
   ],
   "source": [
    "sns.scatterplot(x='Asthma', y='ReAdmis', data=med_df)\n",
    "plt.yticks([0,1], ['No', 'Yes'])\n",
    "plt.xticks([0,1], ['No', 'Yes'])"
   ]
  },
  {
   "cell_type": "code",
   "execution_count": 109,
   "id": "8638144e",
   "metadata": {},
   "outputs": [
    {
     "data": {
      "text/plain": [
       "([<matplotlib.axis.XTick at 0x24a82ca9400>,\n",
       "  <matplotlib.axis.XTick at 0x24a82ca93d0>],\n",
       " [Text(0, 0, 'No'), Text(1, 0, 'Yes')])"
      ]
     },
     "execution_count": 109,
     "metadata": {},
     "output_type": "execute_result"
    },
    {
     "data": {
      "image/png": "[encoded data removed]",
      "text/plain": [
       "<Figure size 432x288 with 1 Axes>"
      ]
     },
     "metadata": {
      "needs_background": "light"
     },
     "output_type": "display_data"
    }
   ],
   "source": [
    "sns.scatterplot(x='Services', y='ReAdmis', data=med_df)\n",
    "plt.yticks([0,1], ['No', 'Yes'])\n",
    "plt.xticks([0,1], ['No', 'Yes'])"
   ]
  },
  {
   "cell_type": "code",
   "execution_count": 110,
   "id": "4b6f1a5d",
   "metadata": {},
   "outputs": [
    {
     "data": {
      "text/plain": [
       "([<matplotlib.axis.XTick at 0x24a827c5280>,\n",
       "  <matplotlib.axis.XTick at 0x24a827c5370>,\n",
       "  <matplotlib.axis.XTick at 0x24a82d34af0>],\n",
       " [Text(1, 0, 'Low'), Text(2, 0, 'Medium'), Text(3, 0, 'High')])"
      ]
     },
     "execution_count": 110,
     "metadata": {},
     "output_type": "execute_result"
    },
    {
     "data": {
      "image/png": "[encoded data removed]",
      "text/plain": [
       "<Figure size 432x288 with 1 Axes>"
      ]
     },
     "metadata": {
      "needs_background": "light"
     },
     "output_type": "display_data"
    }
   ],
   "source": [
    "sns.scatterplot(x='Complication_risk', y='ReAdmis', data=med_df)\n",
    "plt.yticks([0,1], ['No', 'Yes'])\n",
    "plt.xticks([1,2,3], ['Low', 'Medium', 'High'])"
   ]
  },
  {
   "cell_type": "code",
   "execution_count": 111,
   "id": "23a135db",
   "metadata": {},
   "outputs": [
    {
     "data": {
      "text/plain": [
       "([<matplotlib.axis.YTick at 0x24a82d6d670>,\n",
       "  <matplotlib.axis.YTick at 0x24a82d67eb0>],\n",
       " [Text(0, 0, 'No'), Text(0, 1, 'Yes')])"
      ]
     },
     "execution_count": 111,
     "metadata": {},
     "output_type": "execute_result"
    },
    {
     "data": {
      "image/png": "[encoded data removed]",
      "text/plain": [
       "<Figure size 432x288 with 1 Axes>"
      ]
     },
     "metadata": {
      "needs_background": "light"
     },
     "output_type": "display_data"
    }
   ],
   "source": [
    "sns.scatterplot(x='Initial_days', y='ReAdmis', data=med_df)\n",
    "plt.yticks([0,1], ['No', 'Yes'])\n"
   ]
  },
  {
   "cell_type": "code",
   "execution_count": 112,
   "id": "3a06060f",
   "metadata": {},
   "outputs": [
    {
     "data": {
      "text/plain": [
       "([<matplotlib.axis.YTick at 0x24a82dd6100>,\n",
       "  <matplotlib.axis.YTick at 0x24a82dcf940>],\n",
       " [Text(0, 0, 'No'), Text(0, 1, 'Yes')])"
      ]
     },
     "execution_count": 112,
     "metadata": {},
     "output_type": "execute_result"
    },
    {
     "data": {
      "image/png": "[encoded data removed]",
      "text/plain": [
       "<Figure size 432x288 with 1 Axes>"
      ]
     },
     "metadata": {
      "needs_background": "light"
     },
     "output_type": "display_data"
    }
   ],
   "source": [
    "sns.scatterplot(x='TotalCharge', y='ReAdmis', data=med_df)\n",
    "plt.yticks([0,1], ['No', 'Yes'])"
   ]
  },
  {
   "cell_type": "code",
   "execution_count": 113,
   "id": "2dfce526",
   "metadata": {},
   "outputs": [
    {
     "data": {
      "text/plain": [
       "([<matplotlib.axis.XTick at 0x24a82e34df0>,\n",
       "  <matplotlib.axis.XTick at 0x24a82e34dc0>,\n",
       "  <matplotlib.axis.XTick at 0x24a82e66c70>,\n",
       "  <matplotlib.axis.XTick at 0x24a82e6f3a0>],\n",
       " [Text(1, 0, 'MRI'),\n",
       "  Text(2, 0, 'CT Scan'),\n",
       "  Text(3, 0, 'Blood Work'),\n",
       "  Text(4, 0, 'Intravenous')])"
      ]
     },
     "execution_count": 113,
     "metadata": {},
     "output_type": "execute_result"
    },
    {
     "data": {
      "image/png": "[encoded data removed]",
      "text/plain": [
       "<Figure size 432x288 with 1 Axes>"
      ]
     },
     "metadata": {
      "needs_background": "light"
     },
     "output_type": "display_data"
    }
   ],
   "source": [
    "sns.scatterplot(x='Services', y='ReAdmis', data=med_df)\n",
    "plt.yticks([0,1], ['No', 'Yes'])\n",
    "plt.xticks([1,2,3,4], ['MRI', 'CT Scan', 'Blood Work', 'Intravenous'])"
   ]
  },
  {
   "cell_type": "code",
   "execution_count": 115,
   "id": "301afed7",
   "metadata": {},
   "outputs": [],
   "source": [
    "#extract cleaned dataset\n",
    "med_df.to_csv(r'C:/Users/kr529097/Desktop/MSDA/med_prep208_2.csv')"
   ]
  },
  {
   "cell_type": "code",
   "execution_count": 116,
   "id": "20a0e0ac",
   "metadata": {},
   "outputs": [],
   "source": [
    "#extract prepared data set\n",
    "med_df.to_csv('med_prep.csv')"
   ]
  },
  {
   "cell_type": "code",
   "execution_count": 117,
   "id": "75a42683",
   "metadata": {},
   "outputs": [
    {
     "name": "stdout",
     "output_type": "stream",
     "text": [
      "<class 'pandas.core.frame.DataFrame'>\n",
      "RangeIndex: 10000 entries, 0 to 9999\n",
      "Data columns (total 47 columns):\n",
      " #   Column              Non-Null Count  Dtype  \n",
      "---  ------              --------------  -----  \n",
      " 0   Unnamed: 0          10000 non-null  int64  \n",
      " 1   CaseOrder           10000 non-null  int64  \n",
      " 2   Customer_id         10000 non-null  object \n",
      " 3   Interaction         10000 non-null  object \n",
      " 4   UID                 10000 non-null  object \n",
      " 5   City                10000 non-null  object \n",
      " 6   State               10000 non-null  object \n",
      " 7   County              10000 non-null  object \n",
      " 8   Zip                 10000 non-null  int64  \n",
      " 9   TimeZone            10000 non-null  object \n",
      " 10  Job                 10000 non-null  object \n",
      " 11  Children            10000 non-null  int64  \n",
      " 12  Age                 10000 non-null  int64  \n",
      " 13  Income              10000 non-null  float64\n",
      " 14  Marital             10000 non-null  int64  \n",
      " 15  Gender              10000 non-null  int64  \n",
      " 16  ReAdmis             10000 non-null  int64  \n",
      " 17  VitD_levels         10000 non-null  float64\n",
      " 18  Doc_visits          10000 non-null  int64  \n",
      " 19  Full_meals_eaten    10000 non-null  int64  \n",
      " 20  vitD_supp           10000 non-null  int64  \n",
      " 21  Soft_drink          10000 non-null  int64  \n",
      " 22  Initial_admin       10000 non-null  int64  \n",
      " 23  HighBlood           10000 non-null  int64  \n",
      " 24  Stroke              10000 non-null  int64  \n",
      " 25  Complication_risk   10000 non-null  int64  \n",
      " 26  Overweight          10000 non-null  int64  \n",
      " 27  Arthritis           10000 non-null  int64  \n",
      " 28  Diabetes            10000 non-null  int64  \n",
      " 29  Hyperlipidemia      10000 non-null  int64  \n",
      " 30  BackPain            10000 non-null  int64  \n",
      " 31  Anxiety             10000 non-null  int64  \n",
      " 32  Allergic_rhinitis   10000 non-null  int64  \n",
      " 33  Reflux_esophagitis  10000 non-null  int64  \n",
      " 34  Asthma              10000 non-null  int64  \n",
      " 35  Services            10000 non-null  int64  \n",
      " 36  Initial_days        10000 non-null  float64\n",
      " 37  TotalCharge         10000 non-null  float64\n",
      " 38  Additional_charges  10000 non-null  float64\n",
      " 39  TimelyAdmin         10000 non-null  int64  \n",
      " 40  TimelyTreat         10000 non-null  int64  \n",
      " 41  TimelyVisit         10000 non-null  int64  \n",
      " 42  Reliability         10000 non-null  int64  \n",
      " 43  Options             10000 non-null  int64  \n",
      " 44  HoursTreat          10000 non-null  int64  \n",
      " 45  StaffAtt            10000 non-null  int64  \n",
      " 46  DocListen           10000 non-null  int64  \n",
      "dtypes: float64(5), int64(34), object(8)\n",
      "memory usage: 3.6+ MB\n"
     ]
    }
   ],
   "source": [
    "med_prep=pd.read_csv('med_prep.csv')\n",
    "med_prep.info()"
   ]
  },
  {
   "cell_type": "code",
   "execution_count": 118,
   "id": "4d789bfb",
   "metadata": {},
   "outputs": [],
   "source": [
    "#create dataframe with independent variables\n",
    "X= med_prep[['Children', 'Age', 'Income', 'Marital', 'Gender', 'VitD_levels', 'Doc_visits', 'Full_meals_eaten', 'vitD_supp', 'Soft_drink', 'Initial_admin', 'HighBlood', 'Stroke', 'Complication_risk', 'Overweight', 'Arthritis', 'Diabetes', 'Hyperlipidemia', 'BackPain', 'Anxiety', 'Allergic_rhinitis', 'Reflux_esophagitis', 'Asthma', 'Services', 'Initial_days', 'TotalCharge', 'Additional_charges']]"
   ]
  },
  {
   "cell_type": "code",
   "execution_count": 119,
   "id": "c754c459",
   "metadata": {},
   "outputs": [],
   "source": [
    "#create dataframe for dependent variable\n",
    "y = med_prep[['ReAdmis']]"
   ]
  },
  {
   "cell_type": "code",
   "execution_count": 120,
   "id": "57ec1315",
   "metadata": {},
   "outputs": [
    {
     "data": {
      "text/plain": [
       "LogisticRegression()"
      ]
     },
     "execution_count": 120,
     "metadata": {},
     "output_type": "execute_result"
    }
   ],
   "source": [
    "logreg = linear_model.LogisticRegression()\n",
    "logreg.fit(X,y)"
   ]
  },
  {
   "cell_type": "code",
   "execution_count": 121,
   "id": "a0dcf038",
   "metadata": {},
   "outputs": [
    {
     "name": "stdout",
     "output_type": "stream",
     "text": [
      "[[-2.49179892e-02 -2.53953305e-02 -8.61618031e-06 -8.63666397e-02\n",
      "  -7.88065632e-02 -6.93693548e-01 -2.23294148e-01 -3.61489931e-02\n",
      "  -2.28305572e-02 -5.62596397e-03 -2.45031181e-01 -2.11362433e-02\n",
      "  -1.97726470e-03 -4.29263257e-03 -3.59393133e-02 -2.09355077e-02\n",
      "  -7.43421084e-03  3.86915363e-03 -6.50091152e-03 -1.09678634e-02\n",
      "  -1.88795793e-02 -1.58303935e-02 -2.48349782e-02 -1.86865339e-01\n",
      "   5.30493233e-01 -1.77060621e-03  5.94415888e-05]]\n"
     ]
    }
   ],
   "source": [
    "print(logreg.coef_)"
   ]
  },
  {
   "cell_type": "code",
   "execution_count": 122,
   "id": "5e018275",
   "metadata": {},
   "outputs": [
    {
     "name": "stdout",
     "output_type": "stream",
     "text": [
      "[-0.05246989]\n"
     ]
    }
   ],
   "source": [
    "print(logreg.intercept_)"
   ]
  },
  {
   "cell_type": "code",
   "execution_count": 123,
   "id": "ef8b34b3",
   "metadata": {},
   "outputs": [],
   "source": [
    "X_train, X_test, y_train, y_test = train_test_split(X, y, random_state=0, train_size = .7, stratify = y)"
   ]
  },
  {
   "cell_type": "code",
   "execution_count": 124,
   "id": "1d411494",
   "metadata": {},
   "outputs": [],
   "source": [
    "logreg.fit(X_train, y_train)\n",
    "y_pred=logreg.predict(X_test)"
   ]
  },
  {
   "cell_type": "code",
   "execution_count": 125,
   "id": "9d2505a6",
   "metadata": {},
   "outputs": [
    {
     "data": {
      "image/png": "[encoded data removed]",
      "text/plain": [
       "<Figure size 432x288 with 2 Axes>"
      ]
     },
     "metadata": {
      "needs_background": "light"
     },
     "output_type": "display_data"
    }
   ],
   "source": [
    "c_matrix=metrics.plot_confusion_matrix(logreg, X_test, y_test, cmap='GnBu')"
   ]
  },
  {
   "cell_type": "code",
   "execution_count": 126,
   "id": "7677c88e",
   "metadata": {},
   "outputs": [
    {
     "name": "stdout",
     "output_type": "stream",
     "text": [
      "Accuracy: 0.9503333333333334\n"
     ]
    }
   ],
   "source": [
    "# determine accuracy\n",
    "print('Accuracy:', metrics.accuracy_score(y_test, y_pred))"
   ]
  },
  {
   "cell_type": "code",
   "execution_count": 80,
   "id": "2e60c181",
   "metadata": {},
   "outputs": [],
   "source": [
    "from sklearn import linear_model\n",
    "from sklearn.metrics import roc_auc_score\n"
   ]
  },
  {
   "cell_type": "code",
   "execution_count": 127,
   "id": "67a22cac",
   "metadata": {},
   "outputs": [
    {
     "name": "stdout",
     "output_type": "stream",
     "text": [
      "      Children  Age  Marital  VitD_levels    Income  Doc_visits  Initial_days  \\\n",
      "0            1   53        3    19.141466  86575.93           6     10.585770   \n",
      "1            3   51        1    18.940352  46805.99           4     15.129562   \n",
      "2            3   53        4    18.057507  14370.14           4      4.772177   \n",
      "3            0   78        1    16.576858  39741.49           4      1.714879   \n",
      "4            1   22        4    17.439069   7520.47           5      1.254807   \n",
      "...        ...  ...      ...          ...       ...         ...           ...   \n",
      "9995         2   25        4    16.980860  45967.61           4     51.561220   \n",
      "9996         4   87        4    18.177020  14983.02           5     68.668240   \n",
      "9997         3   45        2    17.129070  65917.81           4     70.154180   \n",
      "9998         3   43        3    19.910430  29702.32           5     63.356900   \n",
      "9999         7   70        2    18.388620  62682.63           5     70.850590   \n",
      "\n",
      "      TotalCharge  Additional_charges  \n",
      "0     3726.702860         17939.40342  \n",
      "1     4193.190458         17612.99812  \n",
      "2     2434.234222         17505.19246  \n",
      "3     2127.830423         12993.43735  \n",
      "4     2113.073274          4608.27500  \n",
      "...           ...                 ...  \n",
      "9995  6850.942000          8927.64200  \n",
      "9996  7741.690000         26604.31000  \n",
      "9997  8276.481000         15281.21000  \n",
      "9998  7644.483000          7781.67800  \n",
      "9999  7887.553000         11643.19000  \n",
      "\n",
      "[10000 rows x 9 columns]\n"
     ]
    }
   ],
   "source": [
    "mdl=mdl_med.drop('ReAdmis', axis=1)\n",
    "print(mdl)"
   ]
  },
  {
   "cell_type": "code",
   "execution_count": 128,
   "id": "88e8072f",
   "metadata": {},
   "outputs": [
    {
     "data": {
      "text/plain": [
       "Unnamed: 0            8.334167e+06\n",
       "CaseOrder             8.334167e+06\n",
       "Zip                   7.545783e+08\n",
       "Children              3.834381e+00\n",
       "Age                   4.259493e+02\n",
       "Income                6.168312e+08\n",
       "Marital               2.010165e+00\n",
       "Gender                2.908399e-01\n",
       "ReAdmis               2.323076e-01\n",
       "VitD_levels           3.397259e+00\n",
       "Doc_visits            1.093561e+00\n",
       "Full_meals_eaten      8.822546e-01\n",
       "vitD_supp             3.950183e-01\n",
       "Soft_drink            1.912129e-01\n",
       "Initial_admin         6.808143e-01\n",
       "HighBlood             2.417432e-01\n",
       "Stroke                1.595955e-01\n",
       "Complication_risk     5.331504e-01\n",
       "Overweight            2.061723e-01\n",
       "Arthritis             2.296882e-01\n",
       "Diabetes              1.988534e-01\n",
       "Hyperlipidemia        2.235185e-01\n",
       "BackPain              2.421743e-01\n",
       "Anxiety               2.181596e-01\n",
       "Allergic_rhinitis     2.388091e-01\n",
       "Reflux_esophagitis    2.425420e-01\n",
       "Asthma                2.056261e-01\n",
       "Services              6.934853e-01\n",
       "Initial_days          6.921814e+02\n",
       "TotalCharge           4.754117e+06\n",
       "Additional_charges    4.008925e+07\n",
       "TimelyAdmin           1.064953e+00\n",
       "TimelyTreat           1.070862e+00\n",
       "TimelyVisit           1.066583e+00\n",
       "Reliability           1.073879e+00\n",
       "Options               1.061297e+00\n",
       "HoursTreat            1.065800e+00\n",
       "StaffAtt              1.043268e+00\n",
       "DocListen             1.086415e+00\n",
       "dtype: float64"
      ]
     },
     "execution_count": 128,
     "metadata": {},
     "output_type": "execute_result"
    }
   ],
   "source": [
    "med_prep.var()"
   ]
  },
  {
   "cell_type": "code",
   "execution_count": 131,
   "id": "f6acdc03",
   "metadata": {},
   "outputs": [],
   "source": [
    "mdl_med=med_prep[['Children', 'Age', 'Marital', 'VitD_levels', 'Income', 'Doc_visits', 'Initial_days', 'TotalCharge', 'Additional_charges', 'ReAdmis']]\n"
   ]
  },
  {
   "cell_type": "code",
   "execution_count": 132,
   "id": "3e75edc9",
   "metadata": {},
   "outputs": [],
   "source": [
    "from sklearn.linear_model import LinearRegression\n",
    "from sklearn.feature_selection import RFE\n",
    "from sklearn import datasets\n",
    "lreg = LinearRegression()\n",
    "rfe = RFE(lreg, 5)\n",
    "rfe = rfe.fit(mdl, mdl_med.ReAdmis)"
   ]
  },
  {
   "cell_type": "code",
   "execution_count": 133,
   "id": "597db27a",
   "metadata": {},
   "outputs": [
    {
     "name": "stdout",
     "output_type": "stream",
     "text": [
      "Column: 0, Selected True, Rank: 1.000\n",
      "Column: 1, Selected False, Rank: 2.000\n",
      "Column: 2, Selected True, Rank: 1.000\n",
      "Column: 3, Selected True, Rank: 1.000\n",
      "Column: 4, Selected False, Rank: 5.000\n",
      "Column: 5, Selected True, Rank: 1.000\n",
      "Column: 6, Selected True, Rank: 1.000\n",
      "Column: 7, Selected False, Rank: 3.000\n",
      "Column: 8, Selected False, Rank: 4.000\n"
     ]
    }
   ],
   "source": [
    "# summarize all features\n",
    "for i in range(mdl.shape[1]):\n",
    "    print('Column: %d, Selected %s, Rank: %.3f' % (i, rfe.support_[i], rfe.ranking_[i]))"
   ]
  },
  {
   "cell_type": "code",
   "execution_count": 134,
   "id": "997e0f58",
   "metadata": {},
   "outputs": [
    {
     "name": "stdout",
     "output_type": "stream",
     "text": [
      "[[-0.01042322 -0.05467869 -0.62677137 -0.59216346 -0.0017209   0.50636632]]\n",
      "[-0.78889917]\n"
     ]
    }
   ],
   "source": [
    "# run model with reduced explanatory variables\n",
    "X = med_prep[['Children', 'Marital', 'VitD_levels', 'Doc_visits', 'TotalCharge', 'Initial_days']]\n",
    "y = med_prep[['ReAdmis']]\n",
    "logreg = linear_model.LogisticRegression()\n",
    "logreg.fit(X,y)\n",
    "print(logreg.coef_)\n",
    "print(logreg.intercept_)"
   ]
  },
  {
   "cell_type": "code",
   "execution_count": 135,
   "id": "021a54aa",
   "metadata": {},
   "outputs": [],
   "source": [
    "new_data=med_prep[['Children', 'Marital', 'VitD_levels', 'Doc_visits', 'TotalCharge', 'Initial_days']]"
   ]
  },
  {
   "cell_type": "code",
   "execution_count": 136,
   "id": "431c0a13",
   "metadata": {},
   "outputs": [],
   "source": [
    "from sklearn.model_selection import train_test_split"
   ]
  },
  {
   "cell_type": "code",
   "execution_count": 137,
   "id": "201bc4a0",
   "metadata": {},
   "outputs": [],
   "source": [
    "X_train, X_test, y_train, y_test = train_test_split(X, y, random_state=0, train_size = .7, stratify = y)"
   ]
  },
  {
   "cell_type": "code",
   "execution_count": 138,
   "id": "3b918d02",
   "metadata": {},
   "outputs": [],
   "source": [
    "logreg.fit(X_train, y_train)\n",
    "y_pred=logreg.predict(X_test)"
   ]
  },
  {
   "cell_type": "code",
   "execution_count": 139,
   "id": "cc6733ac",
   "metadata": {},
   "outputs": [
    {
     "data": {
      "image/png": "[encoded data removed]",
      "text/plain": [
       "<Figure size 432x288 with 2 Axes>"
      ]
     },
     "metadata": {
      "needs_background": "light"
     },
     "output_type": "display_data"
    }
   ],
   "source": [
    "from sklearn import metrics\n",
    "c_matrix=metrics.plot_confusion_matrix(logreg, X_test, y_test, cmap='GnBu')"
   ]
  },
  {
   "cell_type": "code",
   "execution_count": 140,
   "id": "6f72ee63",
   "metadata": {},
   "outputs": [
    {
     "name": "stdout",
     "output_type": "stream",
     "text": [
      "Accuracy: 0.941\n"
     ]
    }
   ],
   "source": [
    "# determine accuracy\n",
    "print('Accuracy:', metrics.accuracy_score(y_test, y_pred))"
   ]
  }
 ],
 "metadata": {
  "kernelspec": {
   "display_name": "Python 3 (ipykernel)",
   "language": "python",
   "name": "python3"
  },
  "language_info": {
   "codemirror_mode": {
    "name": "ipython",
    "version": 3
   },
   "file_extension": ".py",
   "mimetype": "text/x-python",
   "name": "python",
   "nbconvert_exporter": "python",
   "pygments_lexer": "ipython3",
   "version": "3.9.7"
  }
 },
 "nbformat": 4,
 "nbformat_minor": 5
}
